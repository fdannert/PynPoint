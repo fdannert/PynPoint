{
 "cells": [
  {
   "cell_type": "code",
   "execution_count": 1,
   "metadata": {},
   "outputs": [],
   "source": [
    "import os\n",
    "import sys\n",
    "module_path = os.path.abspath(os.path.join('../'))\n",
    "if module_path not in sys.path:\n",
    "    sys.path.append(module_path)"
   ]
  },
  {
   "cell_type": "code",
   "execution_count": 2,
   "metadata": {},
   "outputs": [],
   "source": [
    "from PynPoint.core import Pypeline\n",
    "from PynPoint.io_modules import WriteAsSingleFitsFile"
   ]
  },
  {
   "cell_type": "code",
   "execution_count": 3,
   "metadata": {},
   "outputs": [],
   "source": [
    "pipeline = Pypeline(\"/Users/markusbonse/Desktop/PSF_stabi_database\",\n",
    "                    \"/Users/markusbonse/Desktop/PSF_stabi_database\",\n",
    "                    \"/Users/markusbonse/Desktop/PSF_stabi_results\")"
   ]
  },
  {
   "cell_type": "markdown",
   "metadata": {},
   "source": [
    "## Write out fits files"
   ]
  },
  {
   "cell_type": "code",
   "execution_count": 6,
   "metadata": {},
   "outputs": [],
   "source": [
    "writing_no_wv = WriteAsSingleFitsFile(\"no_wv.fits\",\n",
    "                                      name_in=\"write_no_wv\",\n",
    "                                      data_tag=\"psf_normalized\",\n",
    "                                      data_range=(3000, 3400))"
   ]
  },
  {
   "cell_type": "code",
   "execution_count": 7,
   "metadata": {},
   "outputs": [
    {
     "name": "stdout",
     "output_type": "stream",
     "text": [
      "Validating module...\n",
      "Start running module...\n"
     ]
    },
    {
     "name": "stderr",
     "output_type": "stream",
     "text": [
      "/Users/markusbonse/Documents/Arbeit/ETH/Git/PynPoint/PynPoint/io_modules/FitsWriting.py:77: UserWarning: Overwriting old file /Users/markusbonse/Desktop/PSF_stabi_results/no_wv.fits\n",
      "  warnings.warn('Overwriting old file %s' % out_name)\n"
     ]
    },
    {
     "name": "stdout",
     "output_type": "stream",
     "text": [
      "Finished running module...\n"
     ]
    }
   ],
   "source": [
    "pipeline.add_module(writing_no_wv)\n",
    "pipeline.run_module(\"write_no_wv\")"
   ]
  },
  {
   "cell_type": "code",
   "execution_count": 8,
   "metadata": {},
   "outputs": [],
   "source": [
    "writing_hard_wv = WriteAsSingleFitsFile(\"hard_wv.fits\",\n",
    "                                      name_in=\"write_hard_wv\",\n",
    "                                      data_tag=\"wavelet_denoised_hard\",\n",
    "                                      data_range=(3000, 3400))"
   ]
  },
  {
   "cell_type": "code",
   "execution_count": 9,
   "metadata": {},
   "outputs": [
    {
     "name": "stdout",
     "output_type": "stream",
     "text": [
      "Validating module...\n",
      "Start running module...\n"
     ]
    },
    {
     "name": "stderr",
     "output_type": "stream",
     "text": [
      "/Users/markusbonse/Documents/Arbeit/ETH/Git/PynPoint/PynPoint/io_modules/FitsWriting.py:77: UserWarning: Overwriting old file /Users/markusbonse/Desktop/PSF_stabi_results/hard_wv.fits\n",
      "  warnings.warn('Overwriting old file %s' % out_name)\n"
     ]
    },
    {
     "name": "stdout",
     "output_type": "stream",
     "text": [
      "Finished running module...\n"
     ]
    }
   ],
   "source": [
    "pipeline.add_module(writing_hard_wv)\n",
    "pipeline.run_module(\"write_hard_wv\")"
   ]
  },
  {
   "cell_type": "code",
   "execution_count": 10,
   "metadata": {},
   "outputs": [],
   "source": [
    "writing_soft_wv = WriteAsSingleFitsFile(\"soft_wv.fits\",\n",
    "                                      name_in=\"write_soft_wv\",\n",
    "                                      data_tag=\"wavelet_denoised_soft\",\n",
    "                                      data_range=(3000, 3400))"
   ]
  },
  {
   "cell_type": "code",
   "execution_count": 11,
   "metadata": {},
   "outputs": [
    {
     "name": "stderr",
     "output_type": "stream",
     "text": [
      "/Users/markusbonse/Documents/Arbeit/ETH/Git/PynPoint/PynPoint/core/Pypeline.py:209: UserWarning: Processing module names need to be unique. Overwriting the old Module\n",
      "  warnings.warn('Processing module names need to be unique. Overwriting the old Module')\n",
      "/Users/markusbonse/Documents/Arbeit/ETH/Git/PynPoint/PynPoint/io_modules/FitsWriting.py:77: UserWarning: Overwriting old file /Users/markusbonse/Desktop/PSF_stabi_results/soft_wv.fits\n",
      "  warnings.warn('Overwriting old file %s' % out_name)\n"
     ]
    },
    {
     "name": "stdout",
     "output_type": "stream",
     "text": [
      "Validating module...\n",
      "Start running module...\n",
      "Finished running module...\n"
     ]
    }
   ],
   "source": [
    "pipeline.add_module(writing_soft_wv)\n",
    "pipeline.run_module(\"write_soft_wv\")"
   ]
  },
  {
   "cell_type": "code",
   "execution_count": null,
   "metadata": {},
   "outputs": [],
   "source": []
  }
 ],
 "metadata": {
  "kernelspec": {
   "display_name": "Python 2",
   "language": "python",
   "name": "python2"
  },
  "language_info": {
   "codemirror_mode": {
    "name": "ipython",
    "version": 2
   },
   "file_extension": ".py",
   "mimetype": "text/x-python",
   "name": "python",
   "nbconvert_exporter": "python",
   "pygments_lexer": "ipython2",
   "version": "2.7.14"
  }
 },
 "nbformat": 4,
 "nbformat_minor": 2
}

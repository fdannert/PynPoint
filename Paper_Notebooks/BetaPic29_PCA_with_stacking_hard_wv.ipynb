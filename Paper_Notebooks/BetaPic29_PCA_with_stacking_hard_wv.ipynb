{
 "cells": [
  {
   "cell_type": "code",
   "execution_count": 1,
   "metadata": {},
   "outputs": [],
   "source": [
    "import os\n",
    "import sys\n",
    "module_path = os.path.abspath(os.path.join('../'))\n",
    "if module_path not in sys.path:\n",
    "    sys.path.append(module_path)"
   ]
  },
  {
   "cell_type": "code",
   "execution_count": 2,
   "metadata": {},
   "outputs": [],
   "source": [
    "from PynPoint.core import Pypeline"
   ]
  },
  {
   "cell_type": "code",
   "execution_count": 3,
   "metadata": {},
   "outputs": [
    {
     "name": "stdout",
     "output_type": "stream",
     "text": [
      "Initiating PynPoint... [DONE]\n"
     ]
    }
   ],
   "source": [
    "pipeline = Pypeline(\"/scratch/user/mbonse/BetaPic_29/WORKSPACE/hard_wv\",\n",
    "                    \"/scratch/user/mbonse/BetaPic_29/WORKSPACE/hard_wv\",\n",
    "                    \"/scratch/user/mbonse/BetaPic_29/RESULTS\")"
   ]
  },
  {
   "cell_type": "markdown",
   "metadata": {},
   "source": [
    "## Run the new PCA PSF subtraction with the non stacked data"
   ]
  },
  {
   "cell_type": "code",
   "execution_count": 4,
   "metadata": {},
   "outputs": [],
   "source": [
    "from PynPoint.io_modules import FitsWritingModule\n",
    "from PynPoint.processing_modules import FastPCAModule\n",
    "from PynPoint.processing_modules import PSFdataPreparation\n",
    "prepare = PSFdataPreparation(name_in=\"psf_prep2\",\n",
    "                             image_in_tag=\"10_wavelet_denoised_hard\",\n",
    "                             image_out_tag=\"08_star_arr_normalized_bp_cleaned_prep\",\n",
    "                             image_mask_out_tag=\"not_needed\",\n",
    "                             F_final=1.0,\n",
    "                             cent_size=0.05,\n",
    "                             mask_out_tag=\"no_wv_mask_arr\")\n",
    "pipeline.add_module(prepare)"
   ]
  },
  {
   "cell_type": "code",
   "execution_count": 5,
   "metadata": {},
   "outputs": [
    {
     "name": "stdout",
     "output_type": "stream",
     "text": [
      "Validating module psf_prep2... [DONE]\n"
     ]
    }
   ],
   "source": [
    "pipeline.run_module(\"psf_prep2\")"
   ]
  },
  {
   "cell_type": "code",
   "execution_count": 9,
   "metadata": {},
   "outputs": [],
   "source": [
    "pca = FastPCAModule(range(100),\n",
    "                    name_in=\"PSF_subtraction2\",\n",
    "                    images_in_tag=\"08_star_arr_normalized_bp_cleaned_prep\",\n",
    "                    reference_in_tag=\"08_star_arr_normalized_bp_cleaned_prep\",\n",
    "                    res_mean_tag=\"res_mean\")\n",
    "pipeline.add_module(pca)"
   ]
  },
  {
   "cell_type": "code",
   "execution_count": null,
   "metadata": {},
   "outputs": [
    {
     "name": "stdout",
     "output_type": "stream",
     "text": [
      "Validating module PSF_subtraction2... [DONE]\n",
      "Calculating PSF model... [DONE]\n",
      "Creating residuals...30\n"
     ]
    }
   ],
   "source": [
    "pipeline.run_module(\"PSF_subtraction2\")"
   ]
  },
  {
   "cell_type": "code",
   "execution_count": null,
   "metadata": {},
   "outputs": [],
   "source": [
    "writeing = FitsWritingModule(\"mean_hard_wv.fits\",\n",
    "                             name_in=\"fits_writing\",\n",
    "                             data_tag=\"res_mean\")\n",
    "pipeline.add_module(writeing)"
   ]
  },
  {
   "cell_type": "code",
   "execution_count": null,
   "metadata": {},
   "outputs": [],
   "source": [
    "pipeline.run_module(\"fits_writing\")"
   ]
  },
  {
   "cell_type": "code",
   "execution_count": null,
   "metadata": {},
   "outputs": [],
   "source": []
  }
 ],
 "metadata": {
  "kernelspec": {
   "display_name": "Python 2",
   "language": "python",
   "name": "python2"
  },
  "language_info": {
   "codemirror_mode": {
    "name": "ipython",
    "version": 2
   },
   "file_extension": ".py",
   "mimetype": "text/x-python",
   "name": "python",
   "nbconvert_exporter": "python",
   "pygments_lexer": "ipython2",
   "version": "2.7.12"
  }
 },
 "nbformat": 4,
 "nbformat_minor": 1
}

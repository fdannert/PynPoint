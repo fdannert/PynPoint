{
 "cells": [
  {
   "cell_type": "code",
   "execution_count": 1,
   "metadata": {},
   "outputs": [],
   "source": [
    "import os\n",
    "import sys\n",
    "module_path = os.path.abspath(os.path.join('../'))\n",
    "if module_path not in sys.path:\n",
    "    sys.path.append(module_path)"
   ]
  },
  {
   "cell_type": "code",
   "execution_count": 2,
   "metadata": {},
   "outputs": [],
   "source": [
    "from PynPoint.processing_modules import MeanBackgroundSubtractionModule, StarExtractionModule, StarAlignmentModule, AngleCalculationModule, TimeNormalizationModule"
   ]
  },
  {
   "cell_type": "code",
   "execution_count": 3,
   "metadata": {},
   "outputs": [],
   "source": [
    "from PynPoint.io_modules import FitsWritingModule"
   ]
  },
  {
   "cell_type": "code",
   "execution_count": 4,
   "metadata": {},
   "outputs": [],
   "source": [
    "from PynPoint.core import Pypeline"
   ]
  },
  {
   "cell_type": "code",
   "execution_count": 28,
   "metadata": {},
   "outputs": [
    {
     "name": "stdout",
     "output_type": "stream",
     "text": [
      "Initiating PynPoint... [DONE]\n"
     ]
    }
   ],
   "source": [
    "pipeline = Pypeline(\"/scratch/user/mbonse/BetaPic_29_subset/WORKPLACE/\",\n",
    "                    \"/net/ipa-gate.phys.ethz.ch/export/ipa/meyer/mbonse/Beta_Pic/Beta_Pic_2009_12_29_subset/Beta_Pic_2009_12_29_small_norm/OBJECT/\",\n",
    "                    \"/scratch/user/mbonse/BetaPic_29_subset/RESULTS/\")"
   ]
  },
  {
   "cell_type": "markdown",
   "metadata": {},
   "source": [
    "## 00 read the data"
   ]
  },
  {
   "cell_type": "code",
   "execution_count": 6,
   "metadata": {},
   "outputs": [],
   "source": [
    "from PynPoint.io_modules import FitsReadingModule"
   ]
  },
  {
   "cell_type": "code",
   "execution_count": 7,
   "metadata": {
    "collapsed": true
   },
   "outputs": [
    {
     "name": "stdout",
     "output_type": "stream",
     "text": [
      "Validating module Fits_reading... [DONE]\n",
      "Running FitsReadingModule... 0.0% \r"
     ]
    },
    {
     "name": "stderr",
     "output_type": "stream",
     "text": [
      "/home/mbonse/Git/PynPoint/PynPoint/io_modules/FitsReading.py:159: UserWarning: Non-static attribute PARANG_END (=ESO ADA POSANG END) not found in the FITS header.\n",
      "  % (item, fitskey))\n"
     ]
    },
    {
     "name": "stdout",
     "output_type": "stream",
     "text": [
      "Running FitsReadingModule... 1.4% \r"
     ]
    },
    {
     "name": "stderr",
     "output_type": "stream",
     "text": [
      "/home/mbonse/Git/PynPoint/PynPoint/io_modules/FitsReading.py:159: UserWarning: Non-static attribute PARANG_END (=ESO ADA POSANG END) not found in the FITS header.\n",
      "  % (item, fitskey))\n"
     ]
    },
    {
     "name": "stdout",
     "output_type": "stream",
     "text": [
      "Running FitsReadingModule... 4.1% \r"
     ]
    },
    {
     "name": "stderr",
     "output_type": "stream",
     "text": [
      "/home/mbonse/Git/PynPoint/PynPoint/io_modules/FitsReading.py:159: UserWarning: Non-static attribute PARANG_END (=ESO ADA POSANG END) not found in the FITS header.\n",
      "  % (item, fitskey))\n"
     ]
    },
    {
     "name": "stdout",
     "output_type": "stream",
     "text": [
      "Running FitsReadingModule... 5.4% \r"
     ]
    },
    {
     "name": "stderr",
     "output_type": "stream",
     "text": [
      "/home/mbonse/Git/PynPoint/PynPoint/io_modules/FitsReading.py:159: UserWarning: Non-static attribute PARANG_END (=ESO ADA POSANG END) not found in the FITS header.\n",
      "  % (item, fitskey))\n"
     ]
    },
    {
     "name": "stdout",
     "output_type": "stream",
     "text": [
      "Running FitsReadingModule... 6.8% \r"
     ]
    },
    {
     "name": "stderr",
     "output_type": "stream",
     "text": [
      "/home/mbonse/Git/PynPoint/PynPoint/io_modules/FitsReading.py:159: UserWarning: Non-static attribute PARANG_END (=ESO ADA POSANG END) not found in the FITS header.\n",
      "  % (item, fitskey))\n"
     ]
    },
    {
     "name": "stdout",
     "output_type": "stream",
     "text": [
      "Running FitsReadingModule... 8.1% \r"
     ]
    },
    {
     "name": "stderr",
     "output_type": "stream",
     "text": [
      "/home/mbonse/Git/PynPoint/PynPoint/io_modules/FitsReading.py:159: UserWarning: Non-static attribute PARANG_END (=ESO ADA POSANG END) not found in the FITS header.\n",
      "  % (item, fitskey))\n"
     ]
    },
    {
     "name": "stdout",
     "output_type": "stream",
     "text": [
      "Running FitsReadingModule... 9.5% \r"
     ]
    },
    {
     "name": "stderr",
     "output_type": "stream",
     "text": [
      "/home/mbonse/Git/PynPoint/PynPoint/io_modules/FitsReading.py:159: UserWarning: Non-static attribute PARANG_END (=ESO ADA POSANG END) not found in the FITS header.\n",
      "  % (item, fitskey))\n"
     ]
    },
    {
     "name": "stdout",
     "output_type": "stream",
     "text": [
      "Running FitsReadingModule... 10.8% \r"
     ]
    },
    {
     "name": "stderr",
     "output_type": "stream",
     "text": [
      "/home/mbonse/Git/PynPoint/PynPoint/io_modules/FitsReading.py:159: UserWarning: Non-static attribute PARANG_END (=ESO ADA POSANG END) not found in the FITS header.\n",
      "  % (item, fitskey))\n"
     ]
    },
    {
     "name": "stdout",
     "output_type": "stream",
     "text": [
      "Running FitsReadingModule... 12.2% \r"
     ]
    },
    {
     "name": "stderr",
     "output_type": "stream",
     "text": [
      "/home/mbonse/Git/PynPoint/PynPoint/io_modules/FitsReading.py:159: UserWarning: Non-static attribute PARANG_END (=ESO ADA POSANG END) not found in the FITS header.\n",
      "  % (item, fitskey))\n"
     ]
    },
    {
     "name": "stdout",
     "output_type": "stream",
     "text": [
      "Running FitsReadingModule... 13.5% \r"
     ]
    },
    {
     "name": "stderr",
     "output_type": "stream",
     "text": [
      "/home/mbonse/Git/PynPoint/PynPoint/io_modules/FitsReading.py:159: UserWarning: Non-static attribute PARANG_END (=ESO ADA POSANG END) not found in the FITS header.\n",
      "  % (item, fitskey))\n"
     ]
    },
    {
     "name": "stdout",
     "output_type": "stream",
     "text": [
      "Running FitsReadingModule... 14.9% \r"
     ]
    },
    {
     "name": "stderr",
     "output_type": "stream",
     "text": [
      "/home/mbonse/Git/PynPoint/PynPoint/io_modules/FitsReading.py:159: UserWarning: Non-static attribute PARANG_END (=ESO ADA POSANG END) not found in the FITS header.\n",
      "  % (item, fitskey))\n"
     ]
    },
    {
     "name": "stdout",
     "output_type": "stream",
     "text": [
      "Running FitsReadingModule... 16.2% \r"
     ]
    },
    {
     "name": "stderr",
     "output_type": "stream",
     "text": [
      "/home/mbonse/Git/PynPoint/PynPoint/io_modules/FitsReading.py:159: UserWarning: Non-static attribute PARANG_END (=ESO ADA POSANG END) not found in the FITS header.\n",
      "  % (item, fitskey))\n"
     ]
    },
    {
     "name": "stdout",
     "output_type": "stream",
     "text": [
      "Running FitsReadingModule... 17.6% \r"
     ]
    },
    {
     "name": "stderr",
     "output_type": "stream",
     "text": [
      "/home/mbonse/Git/PynPoint/PynPoint/io_modules/FitsReading.py:159: UserWarning: Non-static attribute PARANG_END (=ESO ADA POSANG END) not found in the FITS header.\n",
      "  % (item, fitskey))\n"
     ]
    },
    {
     "name": "stdout",
     "output_type": "stream",
     "text": [
      "Running FitsReadingModule... 18.9% \r"
     ]
    },
    {
     "name": "stderr",
     "output_type": "stream",
     "text": [
      "/home/mbonse/Git/PynPoint/PynPoint/io_modules/FitsReading.py:159: UserWarning: Non-static attribute PARANG_END (=ESO ADA POSANG END) not found in the FITS header.\n",
      "  % (item, fitskey))\n"
     ]
    },
    {
     "name": "stdout",
     "output_type": "stream",
     "text": [
      "Running FitsReadingModule... 20.3% \r"
     ]
    },
    {
     "name": "stderr",
     "output_type": "stream",
     "text": [
      "/home/mbonse/Git/PynPoint/PynPoint/io_modules/FitsReading.py:159: UserWarning: Non-static attribute PARANG_END (=ESO ADA POSANG END) not found in the FITS header.\n",
      "  % (item, fitskey))\n"
     ]
    },
    {
     "name": "stdout",
     "output_type": "stream",
     "text": [
      "Running FitsReadingModule... 21.6% \r"
     ]
    },
    {
     "name": "stderr",
     "output_type": "stream",
     "text": [
      "/home/mbonse/Git/PynPoint/PynPoint/io_modules/FitsReading.py:159: UserWarning: Non-static attribute PARANG_END (=ESO ADA POSANG END) not found in the FITS header.\n",
      "  % (item, fitskey))\n"
     ]
    },
    {
     "name": "stdout",
     "output_type": "stream",
     "text": [
      "Running FitsReadingModule... 23.0% \r"
     ]
    },
    {
     "name": "stderr",
     "output_type": "stream",
     "text": [
      "/home/mbonse/Git/PynPoint/PynPoint/io_modules/FitsReading.py:159: UserWarning: Non-static attribute PARANG_END (=ESO ADA POSANG END) not found in the FITS header.\n",
      "  % (item, fitskey))\n"
     ]
    },
    {
     "name": "stdout",
     "output_type": "stream",
     "text": [
      "Running FitsReadingModule... 24.3% \r"
     ]
    },
    {
     "name": "stderr",
     "output_type": "stream",
     "text": [
      "/home/mbonse/Git/PynPoint/PynPoint/io_modules/FitsReading.py:159: UserWarning: Non-static attribute PARANG_END (=ESO ADA POSANG END) not found in the FITS header.\n",
      "  % (item, fitskey))\n"
     ]
    },
    {
     "name": "stdout",
     "output_type": "stream",
     "text": [
      "Running FitsReadingModule... 25.7% \r"
     ]
    },
    {
     "name": "stderr",
     "output_type": "stream",
     "text": [
      "/home/mbonse/Git/PynPoint/PynPoint/io_modules/FitsReading.py:159: UserWarning: Non-static attribute PARANG_END (=ESO ADA POSANG END) not found in the FITS header.\n",
      "  % (item, fitskey))\n"
     ]
    },
    {
     "name": "stdout",
     "output_type": "stream",
     "text": [
      "Running FitsReadingModule... 27.0% \r"
     ]
    },
    {
     "name": "stderr",
     "output_type": "stream",
     "text": [
      "/home/mbonse/Git/PynPoint/PynPoint/io_modules/FitsReading.py:159: UserWarning: Non-static attribute PARANG_END (=ESO ADA POSANG END) not found in the FITS header.\n",
      "  % (item, fitskey))\n"
     ]
    },
    {
     "name": "stdout",
     "output_type": "stream",
     "text": [
      "Running FitsReadingModule... 28.4% \r"
     ]
    },
    {
     "name": "stderr",
     "output_type": "stream",
     "text": [
      "/home/mbonse/Git/PynPoint/PynPoint/io_modules/FitsReading.py:159: UserWarning: Non-static attribute PARANG_END (=ESO ADA POSANG END) not found in the FITS header.\n",
      "  % (item, fitskey))\n"
     ]
    },
    {
     "name": "stdout",
     "output_type": "stream",
     "text": [
      "Running FitsReadingModule... 29.7% \r"
     ]
    },
    {
     "name": "stderr",
     "output_type": "stream",
     "text": [
      "/home/mbonse/Git/PynPoint/PynPoint/io_modules/FitsReading.py:159: UserWarning: Non-static attribute PARANG_END (=ESO ADA POSANG END) not found in the FITS header.\n",
      "  % (item, fitskey))\n"
     ]
    },
    {
     "name": "stdout",
     "output_type": "stream",
     "text": [
      "Running FitsReadingModule... 31.1% \r"
     ]
    },
    {
     "name": "stderr",
     "output_type": "stream",
     "text": [
      "/home/mbonse/Git/PynPoint/PynPoint/io_modules/FitsReading.py:159: UserWarning: Non-static attribute PARANG_END (=ESO ADA POSANG END) not found in the FITS header.\n",
      "  % (item, fitskey))\n"
     ]
    },
    {
     "name": "stdout",
     "output_type": "stream",
     "text": [
      "Running FitsReadingModule... 32.4% \r"
     ]
    },
    {
     "name": "stderr",
     "output_type": "stream",
     "text": [
      "/home/mbonse/Git/PynPoint/PynPoint/io_modules/FitsReading.py:159: UserWarning: Non-static attribute PARANG_END (=ESO ADA POSANG END) not found in the FITS header.\n",
      "  % (item, fitskey))\n"
     ]
    },
    {
     "name": "stdout",
     "output_type": "stream",
     "text": [
      "Running FitsReadingModule... 33.8% \r"
     ]
    },
    {
     "name": "stderr",
     "output_type": "stream",
     "text": [
      "/home/mbonse/Git/PynPoint/PynPoint/io_modules/FitsReading.py:159: UserWarning: Non-static attribute PARANG_END (=ESO ADA POSANG END) not found in the FITS header.\n",
      "  % (item, fitskey))\n"
     ]
    },
    {
     "name": "stdout",
     "output_type": "stream",
     "text": [
      "Running FitsReadingModule... 35.1% \r"
     ]
    },
    {
     "name": "stderr",
     "output_type": "stream",
     "text": [
      "/home/mbonse/Git/PynPoint/PynPoint/io_modules/FitsReading.py:159: UserWarning: Non-static attribute PARANG_END (=ESO ADA POSANG END) not found in the FITS header.\n",
      "  % (item, fitskey))\n"
     ]
    },
    {
     "name": "stdout",
     "output_type": "stream",
     "text": [
      "Running FitsReadingModule... 36.5% \r"
     ]
    },
    {
     "name": "stderr",
     "output_type": "stream",
     "text": [
      "/home/mbonse/Git/PynPoint/PynPoint/io_modules/FitsReading.py:159: UserWarning: Non-static attribute PARANG_END (=ESO ADA POSANG END) not found in the FITS header.\n",
      "  % (item, fitskey))\n"
     ]
    },
    {
     "name": "stdout",
     "output_type": "stream",
     "text": [
      "Running FitsReadingModule... 37.8% \r"
     ]
    },
    {
     "name": "stderr",
     "output_type": "stream",
     "text": [
      "/home/mbonse/Git/PynPoint/PynPoint/io_modules/FitsReading.py:159: UserWarning: Non-static attribute PARANG_END (=ESO ADA POSANG END) not found in the FITS header.\n",
      "  % (item, fitskey))\n"
     ]
    },
    {
     "name": "stdout",
     "output_type": "stream",
     "text": [
      "Running FitsReadingModule... 39.2% \r"
     ]
    },
    {
     "name": "stderr",
     "output_type": "stream",
     "text": [
      "/home/mbonse/Git/PynPoint/PynPoint/io_modules/FitsReading.py:159: UserWarning: Non-static attribute PARANG_END (=ESO ADA POSANG END) not found in the FITS header.\n",
      "  % (item, fitskey))\n"
     ]
    },
    {
     "name": "stdout",
     "output_type": "stream",
     "text": [
      "Running FitsReadingModule... 40.5% \r"
     ]
    },
    {
     "name": "stderr",
     "output_type": "stream",
     "text": [
      "/home/mbonse/Git/PynPoint/PynPoint/io_modules/FitsReading.py:159: UserWarning: Non-static attribute PARANG_END (=ESO ADA POSANG END) not found in the FITS header.\n",
      "  % (item, fitskey))\n"
     ]
    },
    {
     "name": "stdout",
     "output_type": "stream",
     "text": [
      "Running FitsReadingModule... 41.9% \r"
     ]
    },
    {
     "name": "stderr",
     "output_type": "stream",
     "text": [
      "/home/mbonse/Git/PynPoint/PynPoint/io_modules/FitsReading.py:159: UserWarning: Non-static attribute PARANG_END (=ESO ADA POSANG END) not found in the FITS header.\n",
      "  % (item, fitskey))\n"
     ]
    },
    {
     "name": "stdout",
     "output_type": "stream",
     "text": [
      "Running FitsReadingModule... 43.2% \r"
     ]
    },
    {
     "name": "stderr",
     "output_type": "stream",
     "text": [
      "/home/mbonse/Git/PynPoint/PynPoint/io_modules/FitsReading.py:159: UserWarning: Non-static attribute PARANG_END (=ESO ADA POSANG END) not found in the FITS header.\n",
      "  % (item, fitskey))\n"
     ]
    },
    {
     "name": "stdout",
     "output_type": "stream",
     "text": [
      "Running FitsReadingModule... 44.6% \r"
     ]
    },
    {
     "name": "stderr",
     "output_type": "stream",
     "text": [
      "/home/mbonse/Git/PynPoint/PynPoint/io_modules/FitsReading.py:159: UserWarning: Non-static attribute PARANG_END (=ESO ADA POSANG END) not found in the FITS header.\n",
      "  % (item, fitskey))\n"
     ]
    },
    {
     "name": "stdout",
     "output_type": "stream",
     "text": [
      "Running FitsReadingModule... 45.9% \r"
     ]
    },
    {
     "name": "stderr",
     "output_type": "stream",
     "text": [
      "/home/mbonse/Git/PynPoint/PynPoint/io_modules/FitsReading.py:159: UserWarning: Non-static attribute PARANG_END (=ESO ADA POSANG END) not found in the FITS header.\n",
      "  % (item, fitskey))\n"
     ]
    },
    {
     "name": "stdout",
     "output_type": "stream",
     "text": [
      "Running FitsReadingModule... 47.3% \r"
     ]
    },
    {
     "name": "stderr",
     "output_type": "stream",
     "text": [
      "/home/mbonse/Git/PynPoint/PynPoint/io_modules/FitsReading.py:159: UserWarning: Non-static attribute PARANG_END (=ESO ADA POSANG END) not found in the FITS header.\n",
      "  % (item, fitskey))\n"
     ]
    },
    {
     "name": "stdout",
     "output_type": "stream",
     "text": [
      "Running FitsReadingModule... 48.6% \r"
     ]
    },
    {
     "name": "stderr",
     "output_type": "stream",
     "text": [
      "/home/mbonse/Git/PynPoint/PynPoint/io_modules/FitsReading.py:159: UserWarning: Non-static attribute PARANG_END (=ESO ADA POSANG END) not found in the FITS header.\n",
      "  % (item, fitskey))\n"
     ]
    },
    {
     "name": "stdout",
     "output_type": "stream",
     "text": [
      "Running FitsReadingModule... 50.0% \r"
     ]
    },
    {
     "name": "stderr",
     "output_type": "stream",
     "text": [
      "/home/mbonse/Git/PynPoint/PynPoint/io_modules/FitsReading.py:159: UserWarning: Non-static attribute PARANG_END (=ESO ADA POSANG END) not found in the FITS header.\n",
      "  % (item, fitskey))\n"
     ]
    },
    {
     "name": "stdout",
     "output_type": "stream",
     "text": [
      "Running FitsReadingModule... 51.4% \r"
     ]
    },
    {
     "name": "stderr",
     "output_type": "stream",
     "text": [
      "/home/mbonse/Git/PynPoint/PynPoint/io_modules/FitsReading.py:159: UserWarning: Non-static attribute PARANG_END (=ESO ADA POSANG END) not found in the FITS header.\n",
      "  % (item, fitskey))\n"
     ]
    },
    {
     "name": "stdout",
     "output_type": "stream",
     "text": [
      "Running FitsReadingModule... 52.7% \r"
     ]
    },
    {
     "name": "stderr",
     "output_type": "stream",
     "text": [
      "/home/mbonse/Git/PynPoint/PynPoint/io_modules/FitsReading.py:159: UserWarning: Non-static attribute PARANG_END (=ESO ADA POSANG END) not found in the FITS header.\n",
      "  % (item, fitskey))\n"
     ]
    },
    {
     "name": "stdout",
     "output_type": "stream",
     "text": [
      "Running FitsReadingModule... 54.1% \r"
     ]
    },
    {
     "name": "stderr",
     "output_type": "stream",
     "text": [
      "/home/mbonse/Git/PynPoint/PynPoint/io_modules/FitsReading.py:159: UserWarning: Non-static attribute PARANG_END (=ESO ADA POSANG END) not found in the FITS header.\n",
      "  % (item, fitskey))\n"
     ]
    },
    {
     "name": "stdout",
     "output_type": "stream",
     "text": [
      "Running FitsReadingModule... 55.4% \r"
     ]
    },
    {
     "name": "stderr",
     "output_type": "stream",
     "text": [
      "/home/mbonse/Git/PynPoint/PynPoint/io_modules/FitsReading.py:159: UserWarning: Non-static attribute PARANG_END (=ESO ADA POSANG END) not found in the FITS header.\n",
      "  % (item, fitskey))\n"
     ]
    },
    {
     "name": "stdout",
     "output_type": "stream",
     "text": [
      "Running FitsReadingModule... 56.8% \r"
     ]
    },
    {
     "name": "stderr",
     "output_type": "stream",
     "text": [
      "/home/mbonse/Git/PynPoint/PynPoint/io_modules/FitsReading.py:159: UserWarning: Non-static attribute PARANG_END (=ESO ADA POSANG END) not found in the FITS header.\n",
      "  % (item, fitskey))\n"
     ]
    },
    {
     "name": "stdout",
     "output_type": "stream",
     "text": [
      "Running FitsReadingModule... 58.1% \r"
     ]
    },
    {
     "name": "stderr",
     "output_type": "stream",
     "text": [
      "/home/mbonse/Git/PynPoint/PynPoint/io_modules/FitsReading.py:159: UserWarning: Non-static attribute PARANG_END (=ESO ADA POSANG END) not found in the FITS header.\n",
      "  % (item, fitskey))\n"
     ]
    },
    {
     "name": "stdout",
     "output_type": "stream",
     "text": [
      "Running FitsReadingModule... 59.5% \r"
     ]
    },
    {
     "name": "stderr",
     "output_type": "stream",
     "text": [
      "/home/mbonse/Git/PynPoint/PynPoint/io_modules/FitsReading.py:159: UserWarning: Non-static attribute PARANG_END (=ESO ADA POSANG END) not found in the FITS header.\n",
      "  % (item, fitskey))\n"
     ]
    },
    {
     "name": "stdout",
     "output_type": "stream",
     "text": [
      "Running FitsReadingModule... 60.8% \r"
     ]
    },
    {
     "name": "stderr",
     "output_type": "stream",
     "text": [
      "/home/mbonse/Git/PynPoint/PynPoint/io_modules/FitsReading.py:159: UserWarning: Non-static attribute PARANG_END (=ESO ADA POSANG END) not found in the FITS header.\n",
      "  % (item, fitskey))\n"
     ]
    },
    {
     "name": "stdout",
     "output_type": "stream",
     "text": [
      "Running FitsReadingModule... 62.2% \r"
     ]
    },
    {
     "name": "stderr",
     "output_type": "stream",
     "text": [
      "/home/mbonse/Git/PynPoint/PynPoint/io_modules/FitsReading.py:159: UserWarning: Non-static attribute PARANG_END (=ESO ADA POSANG END) not found in the FITS header.\n",
      "  % (item, fitskey))\n"
     ]
    },
    {
     "name": "stdout",
     "output_type": "stream",
     "text": [
      "Running FitsReadingModule... 63.5% \r"
     ]
    },
    {
     "name": "stderr",
     "output_type": "stream",
     "text": [
      "/home/mbonse/Git/PynPoint/PynPoint/io_modules/FitsReading.py:159: UserWarning: Non-static attribute PARANG_END (=ESO ADA POSANG END) not found in the FITS header.\n",
      "  % (item, fitskey))\n"
     ]
    },
    {
     "name": "stdout",
     "output_type": "stream",
     "text": [
      "Running FitsReadingModule... 64.9% \r"
     ]
    },
    {
     "name": "stderr",
     "output_type": "stream",
     "text": [
      "/home/mbonse/Git/PynPoint/PynPoint/io_modules/FitsReading.py:159: UserWarning: Non-static attribute PARANG_END (=ESO ADA POSANG END) not found in the FITS header.\n",
      "  % (item, fitskey))\n"
     ]
    },
    {
     "name": "stdout",
     "output_type": "stream",
     "text": [
      "Running FitsReadingModule... 66.2% \r"
     ]
    },
    {
     "name": "stderr",
     "output_type": "stream",
     "text": [
      "/home/mbonse/Git/PynPoint/PynPoint/io_modules/FitsReading.py:159: UserWarning: Non-static attribute PARANG_END (=ESO ADA POSANG END) not found in the FITS header.\n",
      "  % (item, fitskey))\n"
     ]
    },
    {
     "name": "stdout",
     "output_type": "stream",
     "text": [
      "Running FitsReadingModule... 67.6% \r"
     ]
    },
    {
     "name": "stderr",
     "output_type": "stream",
     "text": [
      "/home/mbonse/Git/PynPoint/PynPoint/io_modules/FitsReading.py:159: UserWarning: Non-static attribute PARANG_END (=ESO ADA POSANG END) not found in the FITS header.\n",
      "  % (item, fitskey))\n"
     ]
    },
    {
     "name": "stdout",
     "output_type": "stream",
     "text": [
      "Running FitsReadingModule... 68.9% \r"
     ]
    },
    {
     "name": "stderr",
     "output_type": "stream",
     "text": [
      "/home/mbonse/Git/PynPoint/PynPoint/io_modules/FitsReading.py:159: UserWarning: Non-static attribute PARANG_END (=ESO ADA POSANG END) not found in the FITS header.\n",
      "  % (item, fitskey))\n"
     ]
    },
    {
     "name": "stdout",
     "output_type": "stream",
     "text": [
      "Running FitsReadingModule... 70.3% \r"
     ]
    },
    {
     "name": "stderr",
     "output_type": "stream",
     "text": [
      "/home/mbonse/Git/PynPoint/PynPoint/io_modules/FitsReading.py:159: UserWarning: Non-static attribute PARANG_END (=ESO ADA POSANG END) not found in the FITS header.\n",
      "  % (item, fitskey))\n"
     ]
    },
    {
     "name": "stdout",
     "output_type": "stream",
     "text": [
      "Running FitsReadingModule... 71.6% \r"
     ]
    },
    {
     "name": "stderr",
     "output_type": "stream",
     "text": [
      "/home/mbonse/Git/PynPoint/PynPoint/io_modules/FitsReading.py:159: UserWarning: Non-static attribute PARANG_END (=ESO ADA POSANG END) not found in the FITS header.\n",
      "  % (item, fitskey))\n"
     ]
    },
    {
     "name": "stdout",
     "output_type": "stream",
     "text": [
      "Running FitsReadingModule... 73.0% \r"
     ]
    },
    {
     "name": "stderr",
     "output_type": "stream",
     "text": [
      "/home/mbonse/Git/PynPoint/PynPoint/io_modules/FitsReading.py:159: UserWarning: Non-static attribute PARANG_END (=ESO ADA POSANG END) not found in the FITS header.\n",
      "  % (item, fitskey))\n"
     ]
    },
    {
     "name": "stdout",
     "output_type": "stream",
     "text": [
      "Running FitsReadingModule... 74.3% \r"
     ]
    },
    {
     "name": "stderr",
     "output_type": "stream",
     "text": [
      "/home/mbonse/Git/PynPoint/PynPoint/io_modules/FitsReading.py:159: UserWarning: Non-static attribute PARANG_END (=ESO ADA POSANG END) not found in the FITS header.\n",
      "  % (item, fitskey))\n"
     ]
    },
    {
     "name": "stdout",
     "output_type": "stream",
     "text": [
      "Running FitsReadingModule... 75.7% \r"
     ]
    },
    {
     "name": "stderr",
     "output_type": "stream",
     "text": [
      "/home/mbonse/Git/PynPoint/PynPoint/io_modules/FitsReading.py:159: UserWarning: Non-static attribute PARANG_END (=ESO ADA POSANG END) not found in the FITS header.\n",
      "  % (item, fitskey))\n"
     ]
    },
    {
     "name": "stdout",
     "output_type": "stream",
     "text": [
      "Running FitsReadingModule... 77.0% \r"
     ]
    },
    {
     "name": "stderr",
     "output_type": "stream",
     "text": [
      "/home/mbonse/Git/PynPoint/PynPoint/io_modules/FitsReading.py:159: UserWarning: Non-static attribute PARANG_END (=ESO ADA POSANG END) not found in the FITS header.\n",
      "  % (item, fitskey))\n"
     ]
    },
    {
     "name": "stdout",
     "output_type": "stream",
     "text": [
      "Running FitsReadingModule... 78.4% \r"
     ]
    },
    {
     "name": "stderr",
     "output_type": "stream",
     "text": [
      "/home/mbonse/Git/PynPoint/PynPoint/io_modules/FitsReading.py:159: UserWarning: Non-static attribute PARANG_END (=ESO ADA POSANG END) not found in the FITS header.\n",
      "  % (item, fitskey))\n"
     ]
    },
    {
     "name": "stdout",
     "output_type": "stream",
     "text": [
      "Running FitsReadingModule... 79.7% \r"
     ]
    },
    {
     "name": "stderr",
     "output_type": "stream",
     "text": [
      "/home/mbonse/Git/PynPoint/PynPoint/io_modules/FitsReading.py:159: UserWarning: Non-static attribute PARANG_END (=ESO ADA POSANG END) not found in the FITS header.\n",
      "  % (item, fitskey))\n"
     ]
    },
    {
     "name": "stdout",
     "output_type": "stream",
     "text": [
      "Running FitsReadingModule... 81.1% \r"
     ]
    },
    {
     "name": "stderr",
     "output_type": "stream",
     "text": [
      "/home/mbonse/Git/PynPoint/PynPoint/io_modules/FitsReading.py:159: UserWarning: Non-static attribute PARANG_END (=ESO ADA POSANG END) not found in the FITS header.\n",
      "  % (item, fitskey))\n"
     ]
    },
    {
     "name": "stdout",
     "output_type": "stream",
     "text": [
      "Running FitsReadingModule... 82.4% \r"
     ]
    },
    {
     "name": "stderr",
     "output_type": "stream",
     "text": [
      "/home/mbonse/Git/PynPoint/PynPoint/io_modules/FitsReading.py:159: UserWarning: Non-static attribute PARANG_END (=ESO ADA POSANG END) not found in the FITS header.\n",
      "  % (item, fitskey))\n"
     ]
    },
    {
     "name": "stdout",
     "output_type": "stream",
     "text": [
      "Running FitsReadingModule... 83.8% \r"
     ]
    },
    {
     "name": "stderr",
     "output_type": "stream",
     "text": [
      "/home/mbonse/Git/PynPoint/PynPoint/io_modules/FitsReading.py:159: UserWarning: Non-static attribute PARANG_END (=ESO ADA POSANG END) not found in the FITS header.\n",
      "  % (item, fitskey))\n"
     ]
    },
    {
     "name": "stdout",
     "output_type": "stream",
     "text": [
      "Running FitsReadingModule... 85.1% \r"
     ]
    },
    {
     "name": "stderr",
     "output_type": "stream",
     "text": [
      "/home/mbonse/Git/PynPoint/PynPoint/io_modules/FitsReading.py:159: UserWarning: Non-static attribute PARANG_END (=ESO ADA POSANG END) not found in the FITS header.\n",
      "  % (item, fitskey))\n"
     ]
    },
    {
     "name": "stdout",
     "output_type": "stream",
     "text": [
      "Running FitsReadingModule... 86.5% \r"
     ]
    },
    {
     "name": "stderr",
     "output_type": "stream",
     "text": [
      "/home/mbonse/Git/PynPoint/PynPoint/io_modules/FitsReading.py:159: UserWarning: Non-static attribute PARANG_END (=ESO ADA POSANG END) not found in the FITS header.\n",
      "  % (item, fitskey))\n",
      "/home/mbonse/Git/PynPoint/PynPoint/io_modules/FitsReading.py:159: UserWarning: Non-static attribute PARANG_END (=ESO ADA POSANG END) not found in the FITS header.\n",
      "  % (item, fitskey))\n"
     ]
    },
    {
     "name": "stdout",
     "output_type": "stream",
     "text": [
      "Running FitsReadingModule... 89.2% \r"
     ]
    },
    {
     "name": "stderr",
     "output_type": "stream",
     "text": [
      "/home/mbonse/Git/PynPoint/PynPoint/io_modules/FitsReading.py:159: UserWarning: Non-static attribute PARANG_END (=ESO ADA POSANG END) not found in the FITS header.\n",
      "  % (item, fitskey))\n"
     ]
    },
    {
     "name": "stdout",
     "output_type": "stream",
     "text": [
      "Running FitsReadingModule... 90.5% \r"
     ]
    },
    {
     "name": "stderr",
     "output_type": "stream",
     "text": [
      "/home/mbonse/Git/PynPoint/PynPoint/io_modules/FitsReading.py:159: UserWarning: Non-static attribute PARANG_END (=ESO ADA POSANG END) not found in the FITS header.\n",
      "  % (item, fitskey))\n"
     ]
    },
    {
     "name": "stdout",
     "output_type": "stream",
     "text": [
      "Running FitsReadingModule... 91.9% \r"
     ]
    },
    {
     "name": "stderr",
     "output_type": "stream",
     "text": [
      "/home/mbonse/Git/PynPoint/PynPoint/io_modules/FitsReading.py:159: UserWarning: Non-static attribute PARANG_END (=ESO ADA POSANG END) not found in the FITS header.\n",
      "  % (item, fitskey))\n"
     ]
    },
    {
     "name": "stdout",
     "output_type": "stream",
     "text": [
      "Running FitsReadingModule... 93.2% \r"
     ]
    },
    {
     "name": "stderr",
     "output_type": "stream",
     "text": [
      "/home/mbonse/Git/PynPoint/PynPoint/io_modules/FitsReading.py:159: UserWarning: Non-static attribute PARANG_END (=ESO ADA POSANG END) not found in the FITS header.\n",
      "  % (item, fitskey))\n"
     ]
    },
    {
     "name": "stdout",
     "output_type": "stream",
     "text": [
      "Running FitsReadingModule... 94.6% \r"
     ]
    },
    {
     "name": "stderr",
     "output_type": "stream",
     "text": [
      "/home/mbonse/Git/PynPoint/PynPoint/io_modules/FitsReading.py:159: UserWarning: Non-static attribute PARANG_END (=ESO ADA POSANG END) not found in the FITS header.\n",
      "  % (item, fitskey))\n"
     ]
    },
    {
     "name": "stdout",
     "output_type": "stream",
     "text": [
      "Running FitsReadingModule... 95.9% \r"
     ]
    },
    {
     "name": "stderr",
     "output_type": "stream",
     "text": [
      "/home/mbonse/Git/PynPoint/PynPoint/io_modules/FitsReading.py:159: UserWarning: Non-static attribute PARANG_END (=ESO ADA POSANG END) not found in the FITS header.\n",
      "  % (item, fitskey))\n"
     ]
    },
    {
     "name": "stdout",
     "output_type": "stream",
     "text": [
      "Running FitsReadingModule... 97.3% \r"
     ]
    },
    {
     "name": "stderr",
     "output_type": "stream",
     "text": [
      "/home/mbonse/Git/PynPoint/PynPoint/io_modules/FitsReading.py:159: UserWarning: Non-static attribute PARANG_END (=ESO ADA POSANG END) not found in the FITS header.\n",
      "  % (item, fitskey))\n"
     ]
    },
    {
     "name": "stdout",
     "output_type": "stream",
     "text": [
      "Running FitsReadingModule... 98.6% \r"
     ]
    },
    {
     "name": "stderr",
     "output_type": "stream",
     "text": [
      "/home/mbonse/Git/PynPoint/PynPoint/io_modules/FitsReading.py:159: UserWarning: Non-static attribute PARANG_END (=ESO ADA POSANG END) not found in the FITS header.\n",
      "  % (item, fitskey))\n"
     ]
    },
    {
     "name": "stdout",
     "output_type": "stream",
     "text": [
      "Running FitsReadingModule... [DONE]\n"
     ]
    },
    {
     "name": "stderr",
     "output_type": "stream",
     "text": [
      "/home/mbonse/Git/PynPoint/PynPoint/io_modules/FitsReading.py:159: UserWarning: Non-static attribute PARANG_END (=ESO ADA POSANG END) not found in the FITS header.\n",
      "  % (item, fitskey))\n"
     ]
    }
   ],
   "source": [
    "reading_data = FitsReadingModule(name_in=\"Fits_reading\",\n",
    "                                 image_tag=\"00_raw_data\")\n",
    "pipeline.add_module(reading_data)\n",
    "pipeline.run_module(\"Fits_reading\")"
   ]
  },
  {
   "cell_type": "code",
   "execution_count": 8,
   "metadata": {
    "collapsed": true
   },
   "outputs": [
    {
     "name": "stdout",
     "output_type": "stream",
     "text": [
      "Validating module Dark_reading... [DONE]\n",
      "Running FitsReadingModule... 0.0% \r"
     ]
    },
    {
     "name": "stderr",
     "output_type": "stream",
     "text": [
      "/home/mbonse/Git/PynPoint/PynPoint/io_modules/FitsReading.py:159: UserWarning: Non-static attribute PARANG_START (=ESO ADA POSANG) not found in the FITS header.\n",
      "  % (item, fitskey))\n",
      "/home/mbonse/Git/PynPoint/PynPoint/io_modules/FitsReading.py:159: UserWarning: Non-static attribute PARANG_END (=ESO ADA POSANG END) not found in the FITS header.\n",
      "  % (item, fitskey))\n"
     ]
    },
    {
     "name": "stdout",
     "output_type": "stream",
     "text": [
      "Running FitsReadingModule... [DONE]\n",
      "Validating module Flat_reading... [DONE]\n",
      "Running FitsReadingModule... 0.0% \r"
     ]
    },
    {
     "name": "stderr",
     "output_type": "stream",
     "text": [
      "/home/mbonse/Git/PynPoint/PynPoint/io_modules/FitsReading.py:159: UserWarning: Non-static attribute PARANG_END (=ESO ADA POSANG END) not found in the FITS header.\n",
      "  % (item, fitskey))\n"
     ]
    },
    {
     "name": "stdout",
     "output_type": "stream",
     "text": [
      "Running FitsReadingModule... [DONE]\n"
     ]
    }
   ],
   "source": [
    "reading_dark = FitsReadingModule(name_in=\"Dark_reading\",\n",
    "                                 input_dir=\"/net/ipa-gate.phys.ethz.ch/export/ipa/meyer/mbonse/Beta_Pic/Beta_Pic_2009_12_29_subset/Beta_Pic_2009_12_29_small_norm/DARK/\",\n",
    "                                 image_tag=\"00_dark_arr\")\n",
    "pipeline.add_module(reading_dark)\n",
    "\n",
    "reading_flat = FitsReadingModule(name_in=\"Flat_reading\",\n",
    "                                 input_dir=\"/net/ipa-gate.phys.ethz.ch/export/ipa/meyer/mbonse/Beta_Pic/Beta_Pic_2009_12_29_subset/Beta_Pic_2009_12_29_small_norm/FLAT/\",\n",
    "                                 image_tag=\"00_flat_arr\")\n",
    "pipeline.add_module(reading_flat)\n",
    "pipeline.run_module(\"Dark_reading\")\n",
    "pipeline.run_module(\"Flat_reading\")"
   ]
  },
  {
   "cell_type": "markdown",
   "metadata": {},
   "source": [
    "## Cut Data to the correct size"
   ]
  },
  {
   "cell_type": "code",
   "execution_count": 11,
   "metadata": {},
   "outputs": [],
   "source": [
    "from PynPoint.processing_modules import CutTopLinesModule"
   ]
  },
  {
   "cell_type": "code",
   "execution_count": 13,
   "metadata": {},
   "outputs": [
    {
     "name": "stdout",
     "output_type": "stream",
     "text": [
      "Validating module NACO_cutting... [DONE]\n",
      "Running CutTopLinesModule... [DONE]\n"
     ]
    }
   ],
   "source": [
    "cutting = CutTopLinesModule(name_in=\"NACO_cutting\",\n",
    "                            image_in_tag=\"00_raw_data\",\n",
    "                            image_out_tag=\"01_raw_data_cut\")\n",
    "pipeline.add_module(cutting)\n",
    "pipeline.run_module(\"NACO_cutting\")"
   ]
  },
  {
   "cell_type": "code",
   "execution_count": 5,
   "metadata": {},
   "outputs": [],
   "source": [
    "from PynPoint.processing_modules import CutAroundCenterModule"
   ]
  },
  {
   "cell_type": "code",
   "execution_count": 6,
   "metadata": {},
   "outputs": [],
   "source": [
    "cut_flat = CutAroundCenterModule((512,512),\n",
    "                                 name_in=\"cut_flat\",\n",
    "                                 image_in_tag=\"00_flat_arr\",\n",
    "                                 image_out_tag=\"01_flat_arr_cut\")\n",
    "cut_dark = CutAroundCenterModule((512,512),\n",
    "                                 name_in=\"cut_dark\",\n",
    "                                 image_in_tag=\"00_dark_arr\",\n",
    "                                 image_out_tag=\"01_dark_arr_cut\")\n",
    "pipeline.add_module(cut_flat)\n",
    "pipeline.add_module(cut_dark)"
   ]
  },
  {
   "cell_type": "code",
   "execution_count": 7,
   "metadata": {},
   "outputs": [
    {
     "name": "stdout",
     "output_type": "stream",
     "text": [
      "Validating module cut_flat... [DONE]\n",
      "Running CutAroundCenterModule... [DONE]\n",
      "Validating module cut_dark... [DONE]\n",
      "Running CutAroundCenterModule... [DONE]\n"
     ]
    }
   ],
   "source": [
    "pipeline.run_module(\"cut_flat\")\n",
    "pipeline.run_module(\"cut_dark\")"
   ]
  },
  {
   "cell_type": "markdown",
   "metadata": {},
   "source": [
    "## 02 Dark and flat subtraction"
   ]
  },
  {
   "cell_type": "code",
   "execution_count": 8,
   "metadata": {},
   "outputs": [],
   "source": [
    "from PynPoint.processing_modules import DarkSubtractionModule, FlatSubtractionModule"
   ]
  },
  {
   "cell_type": "code",
   "execution_count": 10,
   "metadata": {},
   "outputs": [],
   "source": [
    "dark_sub = DarkSubtractionModule(name_in=\"dark_subtraction\",\n",
    "                                 image_in_tag=\"01_raw_data_cut\",\n",
    "                                 dark_in_tag=\"01_dark_arr_cut\",\n",
    "                                 image_out_tag=\"02_dark_sub\")\n",
    "\n",
    "flat_sub = FlatSubtractionModule(name_in=\"flat_subtraction\",\n",
    "                                 image_in_tag=\"02_dark_sub\",\n",
    "                                 flat_in_tag=\"01_flat_arr_cut\",\n",
    "                                 image_out_tag=\"02_dark_flat_subt\")\n",
    "\n",
    "pipeline.add_module(dark_sub)\n",
    "pipeline.add_module(flat_sub)"
   ]
  },
  {
   "cell_type": "code",
   "execution_count": 11,
   "metadata": {},
   "outputs": [
    {
     "name": "stdout",
     "output_type": "stream",
     "text": [
      "Validating module dark_subtraction... [DONE]\n",
      "Running DarkSubtractionModule... [DONE]\n",
      "Validating module flat_subtraction... [DONE]\n",
      "Running FlatSubtractionModule... [DONE]\n"
     ]
    }
   ],
   "source": [
    "pipeline.run_module(\"dark_subtraction\")\n",
    "pipeline.run_module(\"flat_subtraction\")"
   ]
  },
  {
   "cell_type": "markdown",
   "metadata": {},
   "source": [
    "## 02 Write out dark result"
   ]
  },
  {
   "cell_type": "code",
   "execution_count": 16,
   "metadata": {},
   "outputs": [
    {
     "name": "stdout",
     "output_type": "stream",
     "text": [
      "Validating module after_dark_writing1... [DONE]\n",
      "Running FitsWritingModule... [DONE]\n",
      "Validating module after_dark_writing2... [DONE]\n",
      "Running FitsWritingModule... [DONE]\n"
     ]
    }
   ],
   "source": [
    "writing = FitsWritingModule(\"after_dark_subtraction1.fits\",\n",
    "                                name_in=\"after_dark_writing1\",\n",
    "                                data_tag=\"02_dark_flat_subt\",\n",
    "                                data_range=(2000,2100))\n",
    "pipeline.add_module(writing)\n",
    "writing = FitsWritingModule(\"after_dark_subtraction2.fits\",\n",
    "                                name_in=\"after_dark_writing2\",\n",
    "                                data_tag=\"02_dark_flat_subt\",\n",
    "                                data_range=(29000,29100))\n",
    "pipeline.add_module(writing)\n",
    "pipeline.run_module(\"after_dark_writing1\")\n",
    "pipeline.run_module(\"after_dark_writing2\")"
   ]
  },
  {
   "cell_type": "markdown",
   "metadata": {},
   "source": [
    "## 03 Bad pixel cleaning"
   ]
  },
  {
   "cell_type": "code",
   "execution_count": 17,
   "metadata": {},
   "outputs": [],
   "source": [
    "from PynPoint.processing_modules import BadPixelCleaningSigmaFilterModule"
   ]
  },
  {
   "cell_type": "code",
   "execution_count": 18,
   "metadata": {},
   "outputs": [],
   "source": [
    "bp_sigma = BadPixelCleaningSigmaFilterModule(name_in=\"sigma_filtering\",\n",
    "                                             image_in_tag=\"02_dark_flat_subt\",\n",
    "                                             image_out_tag=\"03_im_arr_bp_clean_sigma\",\n",
    "                                             box=9,\n",
    "                                             sigma=3,\n",
    "                                             iterate=1)\n",
    "pipeline.add_module(bp_sigma)"
   ]
  },
  {
   "cell_type": "code",
   "execution_count": 19,
   "metadata": {},
   "outputs": [
    {
     "name": "stdout",
     "output_type": "stream",
     "text": [
      "Validating module sigma_filtering... [DONE]\n",
      "Running BadPixelCleaningSigmaFilterModule... [DONE]\n"
     ]
    }
   ],
   "source": [
    "pipeline.run_module(\"sigma_filtering\")"
   ]
  },
  {
   "cell_type": "markdown",
   "metadata": {},
   "source": [
    "## 04 Background Substraction"
   ]
  },
  {
   "cell_type": "code",
   "execution_count": 20,
   "metadata": {},
   "outputs": [],
   "source": [
    "bg_subtraction = MeanBackgroundSubtractionModule(star_pos_shift=602,\n",
    "                                                 name_in=\"mean_background_subtraction\",\n",
    "                                                 image_in_tag=\"03_im_arr_bp_clean_sigma\",\n",
    "                                                 image_out_tag=\"04_mean_background_sub\")\n",
    "pipeline.add_module(bg_subtraction)"
   ]
  },
  {
   "cell_type": "code",
   "execution_count": 26,
   "metadata": {},
   "outputs": [
    {
     "name": "stdout",
     "output_type": "stream",
     "text": [
      "Validating module mean_background_subtraction... [DONE]\n",
      "Subtracting background from stack-part 1 of 37 stack-parts\n",
      "Subtracting background from stack-part 2 of 37 stack-parts\n",
      "Subtracting background from stack-part 3 of 37 stack-parts\n",
      "Subtracting background from stack-part 4 of 37 stack-parts\n",
      "Subtracting background from stack-part 5 of 37 stack-parts\n",
      "Subtracting background from stack-part 6 of 37 stack-parts\n",
      "Subtracting background from stack-part 7 of 37 stack-parts\n",
      "Subtracting background from stack-part 8 of 37 stack-parts\n",
      "Subtracting background from stack-part 9 of 37 stack-parts\n",
      "Subtracting background from stack-part 10 of 37 stack-parts\n",
      "Subtracting background from stack-part 11 of 37 stack-parts\n",
      "Subtracting background from stack-part 12 of 37 stack-parts\n",
      "Subtracting background from stack-part 13 of 37 stack-parts\n",
      "Subtracting background from stack-part 14 of 37 stack-parts\n",
      "Subtracting background from stack-part 15 of 37 stack-parts\n",
      "Subtracting background from stack-part 16 of 37 stack-parts\n",
      "Subtracting background from stack-part 17 of 37 stack-parts\n",
      "Subtracting background from stack-part 18 of 37 stack-parts\n",
      "Subtracting background from stack-part 19 of 37 stack-parts\n",
      "Subtracting background from stack-part 20 of 37 stack-parts\n",
      "Subtracting background from stack-part 21 of 37 stack-parts\n",
      "Subtracting background from stack-part 22 of 37 stack-parts\n",
      "Subtracting background from stack-part 23 of 37 stack-parts\n",
      "Subtracting background from stack-part 24 of 37 stack-parts\n",
      "Subtracting background from stack-part 25 of 37 stack-parts\n",
      "Subtracting background from stack-part 26 of 37 stack-parts\n",
      "Subtracting background from stack-part 27 of 37 stack-parts\n",
      "Subtracting background from stack-part 28 of 37 stack-parts\n",
      "Subtracting background from stack-part 29 of 37 stack-parts\n",
      "Subtracting background from stack-part 30 of 37 stack-parts\n",
      "Subtracting background from stack-part 31 of 37 stack-parts\n",
      "Subtracting background from stack-part 32 of 37 stack-parts\n",
      "Subtracting background from stack-part 33 of 37 stack-parts\n",
      "Subtracting background from stack-part 34 of 37 stack-parts\n",
      "Subtracting background from stack-part 35 of 37 stack-parts\n",
      "Subtracting background from stack-part 36 of 37 stack-parts\n",
      "Subtracting background from stack-part 37 of 37 stack-parts\n"
     ]
    }
   ],
   "source": [
    "pipeline.run_module(\"mean_background_subtraction\")"
   ]
  },
  {
   "cell_type": "markdown",
   "metadata": {},
   "source": [
    "## 05 Star Extraction"
   ]
  },
  {
   "cell_type": "code",
   "execution_count": 30,
   "metadata": {},
   "outputs": [
    {
     "name": "stderr",
     "output_type": "stream",
     "text": [
      "/home/mbonse/Git/PynPoint/PynPoint/core/Pypeline.py:228: UserWarning: Processing module names need to be unique. Overwriting the old Module\n",
      "  warnings.warn('Processing module names need to be unique. Overwriting the old Module')\n"
     ]
    }
   ],
   "source": [
    "star_cut = StarExtractionModule(name_in=\"star_cut\",\n",
    "                                image_in_tag=\"04_mean_background_sub\",\n",
    "                                image_out_tag=\"05_star_arr_cut\",\n",
    "                                image_size=3.0)\n",
    "pipeline.add_module(star_cut)"
   ]
  },
  {
   "cell_type": "code",
   "execution_count": 31,
   "metadata": {},
   "outputs": [
    {
     "name": "stdout",
     "output_type": "stream",
     "text": [
      "Validating module star_cut... [DONE]\n",
      "Running StarExtractionModule... [DONE]\n"
     ]
    }
   ],
   "source": [
    "pipeline.run_module(\"star_cut\")"
   ]
  },
  {
   "cell_type": "markdown",
   "metadata": {},
   "source": [
    "## BP Clean 2"
   ]
  },
  {
   "cell_type": "code",
   "execution_count": 35,
   "metadata": {},
   "outputs": [
    {
     "name": "stderr",
     "output_type": "stream",
     "text": [
      "/home/mbonse/Git/PynPoint/PynPoint/core/Pypeline.py:228: UserWarning: Processing module names need to be unique. Overwriting the old Module\n",
      "  warnings.warn('Processing module names need to be unique. Overwriting the old Module')\n"
     ]
    }
   ],
   "source": [
    "bp_sigma = BadPixelCleaningSigmaFilterModule(name_in=\"sigma_filtering\",\n",
    "                                             image_in_tag=\"05_star_arr_cut\",\n",
    "                                             image_out_tag=\"05_star_arr_cut_bp_clean_sigma\",\n",
    "                                             box=9,\n",
    "                                             sigma=3,\n",
    "                                             iterate=1)\n",
    "pipeline.add_module(bp_sigma)"
   ]
  },
  {
   "cell_type": "code",
   "execution_count": 37,
   "metadata": {},
   "outputs": [
    {
     "name": "stdout",
     "output_type": "stream",
     "text": [
      "Validating module after_cut2... [DONE]\n",
      "Running FitsWritingModule... [DONE]\n"
     ]
    },
    {
     "name": "stderr",
     "output_type": "stream",
     "text": [
      "/home/mbonse/Git/PynPoint/PynPoint/core/Pypeline.py:228: UserWarning: Processing module names need to be unique. Overwriting the old Module\n",
      "  warnings.warn('Processing module names need to be unique. Overwriting the old Module')\n"
     ]
    }
   ],
   "source": [
    "writing2 = FitsWritingModule(\"after_cut_14_1.fits\",\n",
    "                                name_in=\"after_cut2\",\n",
    "                                data_tag=\"05_star_arr_cut_bp_clean_sigma\",\n",
    "                                data_range=(2000,2100))\n",
    "pipeline.add_module(writing2)\n",
    "pipeline.run_module(\"after_cut2\")"
   ]
  },
  {
   "cell_type": "code",
   "execution_count": 36,
   "metadata": {},
   "outputs": [
    {
     "name": "stdout",
     "output_type": "stream",
     "text": [
      "Validating module sigma_filtering... [DONE]\n",
      "Running BadPixelCleaningSigmaFilterModule... [DONE]\n"
     ]
    }
   ],
   "source": [
    "pipeline.run_module(\"sigma_filtering\")"
   ]
  },
  {
   "cell_type": "markdown",
   "metadata": {},
   "source": [
    "## 06 Create reference frame for the alignment"
   ]
  },
  {
   "cell_type": "code",
   "execution_count": 10,
   "metadata": {},
   "outputs": [],
   "source": [
    "from PynPoint.core import InputPort\n",
    "import numpy as np\n",
    "\n",
    "ref_port = InputPort(\"05_star_arr_cut_bp_clean_sigma\",\n",
    "                     pipeline.m_data_storage)\n",
    "\n",
    "subset = ref_port[1000:5000, :, :]\n",
    "ref_frame = np.mean(subset, axis=0)"
   ]
  },
  {
   "cell_type": "code",
   "execution_count": 11,
   "metadata": {},
   "outputs": [],
   "source": [
    "from PynPoint.core import OutputPort\n",
    "\n",
    "ref_out = OutputPort(\"ref_frame\",\n",
    "                     pipeline.m_data_storage)\n",
    "\n",
    "ref_out.set_all(ref_frame)\n",
    "ref_out.close_port()"
   ]
  },
  {
   "cell_type": "markdown",
   "metadata": {},
   "source": [
    "## 07 Alignment"
   ]
  },
  {
   "cell_type": "code",
   "execution_count": 14,
   "metadata": {},
   "outputs": [
    {
     "name": "stderr",
     "output_type": "stream",
     "text": [
      "/home/mbonse/Git/PynPoint/PynPoint/core/Pypeline.py:228: UserWarning: Processing module names need to be unique. Overwriting the old Module\n",
      "  warnings.warn('Processing module names need to be unique. Overwriting the old Module')\n"
     ]
    }
   ],
   "source": [
    "alignment = StarAlignmentModule(name_in=\"star_alignment\",\n",
    "                                image_in_tag=\"05_star_arr_cut_bp_clean_sigma\",\n",
    "                                image_out_tag=\"07_star_arr_aligned\",\n",
    "                                ref_image_in_tag=\"ref_frame\",\n",
    "                                interpolation=\"spline\",\n",
    "                                accuracy=100,\n",
    "                                resize=1,\n",
    "                                num_references=1)\n",
    "pipeline.add_module(alignment)"
   ]
  },
  {
   "cell_type": "code",
   "execution_count": 15,
   "metadata": {},
   "outputs": [
    {
     "name": "stdout",
     "output_type": "stream",
     "text": [
      "Validating module star_alignment... [DONE]\n",
      "Running StarAlignmentModule... [DONE]\n"
     ]
    }
   ],
   "source": [
    "pipeline.run_module(\"star_alignment\")"
   ]
  },
  {
   "cell_type": "markdown",
   "metadata": {},
   "source": [
    "## 07 Angle Calculation"
   ]
  },
  {
   "cell_type": "code",
   "execution_count": 16,
   "metadata": {},
   "outputs": [
    {
     "name": "stdout",
     "output_type": "stream",
     "text": [
      "Validating module angle_calculation... [DONE]\n",
      "Running AngleCalculationModule... [DONE]\n"
     ]
    }
   ],
   "source": [
    "angle_calc = AngleCalculationModule(name_in=\"angle_calculation\",\n",
    "                                    data_tag=\"07_star_arr_aligned\")\n",
    "pipeline.add_module(angle_calc)\n",
    "pipeline.run_module(\"angle_calculation\")"
   ]
  },
  {
   "cell_type": "markdown",
   "metadata": {},
   "source": [
    "## OLD DATABASE TESTS FROM HERE"
   ]
  },
  {
   "cell_type": "markdown",
   "metadata": {},
   "source": [
    "## 08 Frame Normalization"
   ]
  },
  {
   "cell_type": "code",
   "execution_count": 29,
   "metadata": {},
   "outputs": [],
   "source": [
    "normalization = TimeNormalizationModule(name_in=\"frame_normalization\",\n",
    "                                        image_in_tag=\"06_star_arr_aligned\",\n",
    "                                        image_out_tag=\"08_star_arr_normalized\")\n",
    "pipeline.add_module(normalization)"
   ]
  },
  {
   "cell_type": "code",
   "execution_count": 30,
   "metadata": {},
   "outputs": [
    {
     "name": "stdout",
     "output_type": "stream",
     "text": [
      "Validating module frame_normalization... [DONE]\n",
      "Running TimeNormalizationModule... [DONE]\n"
     ]
    }
   ],
   "source": [
    "pipeline.run_module(\"frame_normalization\")"
   ]
  },
  {
   "cell_type": "code",
   "execution_count": 48,
   "metadata": {},
   "outputs": [
    {
     "name": "stdout",
     "output_type": "stream",
     "text": [
      "Validating module shift... [DONE]\n",
      "Running ShiftForCenteringModule... 0.0% \r"
     ]
    },
    {
     "name": "stderr",
     "output_type": "stream",
     "text": [
      "/home/mbonse/Git/PynPoint/PynPoint/core/Pypeline.py:228: UserWarning: Processing module names need to be unique. Overwriting the old Module\n",
      "  warnings.warn('Processing module names need to be unique. Overwriting the old Module')\n"
     ]
    },
    {
     "name": "stdout",
     "output_type": "stream",
     "text": [
      "Running ShiftForCenteringModule... [DONE]\n"
     ]
    }
   ],
   "source": [
    "from PynPoint.processing_modules import ShiftForCenteringModule\n",
    "\n",
    "shift = ShiftForCenteringModule((-1.5,0.0),\n",
    "                                name_in=\"shift\",\n",
    "                                image_in_tag=\"08_star_arr_normalized\",\n",
    "                                image_out_tag=\"09_star_arr_shifted\")\n",
    "pipeline.add_module(shift)\n",
    "pipeline.run_module(\"shift\")"
   ]
  },
  {
   "cell_type": "code",
   "execution_count": 49,
   "metadata": {},
   "outputs": [
    {
     "name": "stderr",
     "output_type": "stream",
     "text": [
      "/home/mbonse/Git/PynPoint/PynPoint/core/Pypeline.py:228: UserWarning: Processing module names need to be unique. Overwriting the old Module\n",
      "  warnings.warn('Processing module names need to be unique. Overwriting the old Module')\n"
     ]
    }
   ],
   "source": [
    "writing2 = FitsWritingModule(\"after_pre_processing2.fits\",\n",
    "                                name_in=\"after_pre_processing2\",\n",
    "                                data_tag=\"09_star_arr_shifted\",\n",
    "                                data_range=(2000,2100))\n",
    "pipeline.add_module(writing2)"
   ]
  },
  {
   "cell_type": "code",
   "execution_count": 50,
   "metadata": {},
   "outputs": [
    {
     "name": "stdout",
     "output_type": "stream",
     "text": [
      "Validating module after_pre_processing2... [DONE]\n",
      "Running FitsWritingModule... [DONE]\n"
     ]
    }
   ],
   "source": [
    "pipeline.run_module(\"after_pre_processing2\")"
   ]
  },
  {
   "cell_type": "code",
   "execution_count": null,
   "metadata": {},
   "outputs": [],
   "source": []
  }
 ],
 "metadata": {
  "kernelspec": {
   "display_name": "Python 2",
   "language": "python",
   "name": "python2"
  },
  "language_info": {
   "codemirror_mode": {
    "name": "ipython",
    "version": 2
   },
   "file_extension": ".py",
   "mimetype": "text/x-python",
   "name": "python",
   "nbconvert_exporter": "python",
   "pygments_lexer": "ipython2",
   "version": "2.7.12"
  }
 },
 "nbformat": 4,
 "nbformat_minor": 1
}

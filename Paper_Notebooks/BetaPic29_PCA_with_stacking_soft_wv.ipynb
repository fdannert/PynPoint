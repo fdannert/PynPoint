{
 "cells": [
  {
   "cell_type": "code",
   "execution_count": 1,
   "metadata": {},
   "outputs": [],
   "source": [
    "import os\n",
    "import sys\n",
    "module_path = os.path.abspath(os.path.join('../'))\n",
    "if module_path not in sys.path:\n",
    "    sys.path.append(module_path)"
   ]
  },
  {
   "cell_type": "code",
   "execution_count": 2,
   "metadata": {},
   "outputs": [],
   "source": [
    "from PynPoint.core import Pypeline"
   ]
  },
  {
   "cell_type": "code",
   "execution_count": 3,
   "metadata": {},
   "outputs": [
    {
     "name": "stdout",
     "output_type": "stream",
     "text": [
      "Initiating PynPoint... [DONE]\n"
     ]
    }
   ],
   "source": [
    "pipeline = Pypeline(\"/scratch/user/mbonse/BetaPic_29/WORKSPACE/soft_wv\",\n",
    "                    \"/scratch/user/mbonse/BetaPic_29/WORKSPACE/soft_wv\",\n",
    "                    \"/scratch/user/mbonse/BetaPic_29/RESULTS\")"
   ]
  },
  {
   "cell_type": "markdown",
   "metadata": {},
   "source": [
    "## Run the new PCA PSF subtraction with the non stacked data"
   ]
  },
  {
   "cell_type": "code",
   "execution_count": 11,
   "metadata": {},
   "outputs": [],
   "source": [
    "from PynPoint.io_modules import FitsWritingModule\n",
    "from PynPoint.processing_modules import FastPCAModule\n",
    "from PynPoint.processing_modules import PSFdataPreparation\n",
    "prepare = PSFdataPreparation(name_in=\"psf_prep2\",\n",
    "                             image_in_tag=\"10_wavelet_denoised_soft\",\n",
    "                             image_out_tag=\"08_star_arr_normalized_bp_cleaned_prep\",\n",
    "                             image_mask_out_tag=\"not_needed\",\n",
    "                             F_final=1.0,\n",
    "                             cent_size=0.05,\n",
    "                             mask_out_tag=\"no_wv_mask_arr\")\n",
    "pipeline.add_module(prepare)"
   ]
  },
  {
   "cell_type": "code",
   "execution_count": 12,
   "metadata": {},
   "outputs": [
    {
     "name": "stdout",
     "output_type": "stream",
     "text": [
      "Validating module psf_prep2... [DONE]\n"
     ]
    }
   ],
   "source": [
    "pipeline.run_module(\"psf_prep2\")"
   ]
  },
  {
   "cell_type": "code",
   "execution_count": 13,
   "metadata": {},
   "outputs": [],
   "source": [
    "pca = FastPCAModule(range(100),\n",
    "                    name_in=\"PSF_subtraction2\",\n",
    "                    images_in_tag=\"08_star_arr_normalized_bp_cleaned_prep\",\n",
    "                    reference_in_tag=\"08_star_arr_normalized_bp_cleaned_prep\",\n",
    "                    res_mean_tag=\"res_mean\")\n",
    "pipeline.add_module(pca)"
   ]
  },
  {
   "cell_type": "code",
   "execution_count": 14,
   "metadata": {},
   "outputs": [
    {
     "name": "stdout",
     "output_type": "stream",
     "text": [
      "Validating module PSF_subtraction2... [DONE]\n",
      "Calculating PSF model... [DONE]\n",
      "Creating residuals...30\n",
      "Created Residual with 0 components\n",
      "Created Residual with 11 components\n",
      "Created Residual with 8 components\n",
      "Created Residual with 1 components\n",
      "Created Residual with 4 components\n",
      "Created Residual with 2 components\n",
      "Created Residual with 10 components\n",
      "Created Residual with 16 components\n",
      "Created Residual with 25 components\n",
      "Created Residual with 28 components\n",
      "Created Residual with 29 components\n",
      "Created Residual with 12 components\n",
      "Created Residual with 19 components\n",
      "Created Residual with 20 components\n",
      "Created Residual with 21 components\n",
      "Created Residual with 3 components\n",
      "Created Residual with 22 components\n",
      "Created Residual with 24 components\n",
      "Created Residual with 13 components\n",
      "Created Residual with 26 components\n",
      "Created Residual with 14 components\n",
      "Created Residual with 9 components\n",
      "Created Residual with 17 components\n",
      "Created Residual with 7 components\n",
      "Created Residual with 27 components\n",
      "Created Residual with 15 components\n",
      "Created Residual with 5 components\n",
      "Created Residual with 23 components\n",
      "Created Residual with 18 components\n",
      "Created Residual with 6 components\n",
      "Created Residual with 34 components\n",
      "Created Residual with 32 components\n",
      "Created Residual with 30 components\n",
      "Created Residual with 33 components\n",
      "Created Residual with 31 components\n",
      "Created Residual with 42 components\n",
      "Created Residual with 35 components\n",
      "Created Residual with 36 components\n",
      "Created Residual with 39 components\n",
      "Created Residual with 41 components\n",
      "Created Residual with 43 components\n",
      "Created Residual with 40 components\n",
      "Created Residual with 38 components\n",
      "Created Residual with 53 components\n",
      "Created Residual with 51 components\n",
      "Created Residual with 47 components\n",
      "Created Residual with 57 components\n",
      "Created Residual with 45 components\n",
      "Created Residual with 48 components\n",
      "Created Residual with 49 components\n",
      "Created Residual with 69 components\n",
      "Created Residual with 65 components\n",
      "Created Residual with 66 components\n",
      "Created Residual with 70 components\n",
      "Created Residual with 59 components\n",
      "Created Residual with 77 components\n",
      "Created Residual with 58 components\n",
      "Created Residual with 68 components\n",
      "Created Residual with 52 components\n",
      "Created Residual with 71 components\n",
      "Created Residual with 56 components\n",
      "Created Residual with 62 components\n",
      "Created Residual with 72 components\n",
      "Created Residual with 79 components\n",
      "Created Residual with 76 components\n",
      "Created Residual with 54 components\n",
      "Created Residual with 67 components\n",
      "Created Residual with 80 components\n",
      "Created Residual with 61 components\n",
      "Created Residual with 50 components\n",
      "Created Residual with 63 components\n",
      "PcaTaskProcessor-3: Exiting\n",
      "Created Residual with 75 components\n",
      "PcaTaskProcessor-11: Exiting\n",
      "Created Residual with 81 components\n",
      "PcaTaskProcessor-4: Exiting\n",
      "Created Residual with 74 components\n",
      "PcaTaskProcessor-26: Exiting\n",
      "Created Residual with 64 components\n",
      "PcaTaskProcessor-13: Exiting\n",
      "Created Residual with 60 components\n",
      "PcaTaskProcessor-5: Exiting\n",
      "Created Residual with 82 components\n",
      "PcaTaskProcessor-21: Exiting\n",
      "Created Residual with 73 components\n",
      "PcaTaskProcessor-9: Exiting\n",
      "Created Residual with 83 components\n",
      "PcaTaskProcessor-22: Exiting\n",
      "Created Residual with 46 components\n",
      "PcaTaskProcessor-24: Exiting\n",
      "Created Residual with 78 components\n",
      "PcaTaskProcessor-15: Exiting\n",
      "Created Residual with 84 components\n",
      "PcaTaskProcessor-6: Exiting\n",
      "Created Residual with 85 components\n",
      "PcaTaskProcessor-8: Exiting\n",
      "Created Residual with 55 components\n",
      "PcaTaskProcessor-17: Exiting\n",
      "Created Residual with 44 components\n",
      "PcaTaskProcessor-23: Exiting\n",
      "Created Residual with 86 components\n",
      "PcaTaskProcessor-20: Exiting\n",
      "Created Residual with 37 components\n",
      "PcaTaskProcessor-27: Exiting\n",
      "Created Residual with 87 components\n",
      "PcaTaskProcessor-30: Exiting\n",
      "Created Residual with 88 components\n",
      "PcaTaskProcessor-19: Exiting\n",
      "Created Residual with 97 components\n",
      "Created Residual with 91 components\n",
      "PcaTaskProcessor-14: Exiting\n",
      "PcaTaskProcessor-2: Exiting\n",
      "Created Residual with 89 components\n",
      "PcaTaskProcessor-18: Exiting\n",
      "Created Residual with 90 components\n",
      "PcaTaskProcessor-7: Exiting\n",
      "Created Residual with 95 components\n",
      "Created Residual with 93 components\n",
      "PcaTaskProcessor-29: Exiting\n",
      "PcaTaskProcessor-28: Exiting\n",
      "Created Residual with 92 components\n",
      "PcaTaskProcessor-31: Exiting\n",
      "Created Residual with 98 components\n",
      "PcaTaskProcessor-10: Exiting\n",
      "Created Residual with 94 components\n",
      "PcaTaskProcessor-25: Exiting\n",
      "Created Residual with 96 components\n",
      "PcaTaskProcessor-12: Exiting\n",
      "Created Residual with 99 components\n",
      "PcaTaskProcessor-16: Exiting\n",
      "Shutting down writer...\n",
      " [DONE]\n"
     ]
    }
   ],
   "source": [
    "pipeline.run_module(\"PSF_subtraction2\")"
   ]
  },
  {
   "cell_type": "code",
   "execution_count": 15,
   "metadata": {},
   "outputs": [],
   "source": [
    "from PynPoint.io_modules import FitsWritingModule\n",
    "writeing = FitsWritingModule(\"mean_soft_wv.fits\",\n",
    "                             name_in=\"fits_writing\",\n",
    "                             data_tag=\"res_mean\")\n",
    "pipeline.add_module(writeing)"
   ]
  },
  {
   "cell_type": "code",
   "execution_count": 16,
   "metadata": {},
   "outputs": [
    {
     "name": "stdout",
     "output_type": "stream",
     "text": [
      "Validating module fits_writing... [DONE]\n",
      "Running FitsWritingModule... [DONE]\n"
     ]
    }
   ],
   "source": [
    "pipeline.run_module(\"fits_writing\")"
   ]
  },
  {
   "cell_type": "markdown",
   "metadata": {},
   "source": [
    "## Run the same with stacking"
   ]
  },
  {
   "cell_type": "code",
   "execution_count": 4,
   "metadata": {},
   "outputs": [],
   "source": [
    "from PynPoint.processing_modules import StackAndSubsetModule"
   ]
  },
  {
   "cell_type": "code",
   "execution_count": 5,
   "metadata": {},
   "outputs": [],
   "source": [
    "stacking = StackAndSubsetModule(name_in=\"stacking\", \n",
    "                                image_in_tag=\"10_wavelet_denoised_soft\",\n",
    "                                image_out_tag=\"10_wavelet_denoised_soft_stacked\",\n",
    "                                random_subset=None,\n",
    "                                stacking=10)\n",
    "pipeline.add_module(stacking)"
   ]
  },
  {
   "cell_type": "code",
   "execution_count": 6,
   "metadata": {},
   "outputs": [
    {
     "name": "stdout",
     "output_type": "stream",
     "text": [
      "Validating module stacking... [DONE]\n"
     ]
    },
    {
     "name": "stderr",
     "output_type": "stream",
     "text": [
      "/home/mbonse/Git/PynPoint/PynPoint/core/DataIO.py:409: UserWarning: No attribute found - requested: NFRAMES\n",
      "  warnings.warn('No attribute found - requested: %s' % name)\n"
     ]
    }
   ],
   "source": [
    "pipeline.run_module(\"stacking\")"
   ]
  },
  {
   "cell_type": "markdown",
   "metadata": {},
   "source": [
    "## run the PSF subtraction for the stacked version"
   ]
  },
  {
   "cell_type": "code",
   "execution_count": 8,
   "metadata": {},
   "outputs": [],
   "source": [
    "from PynPoint.io_modules import FitsWritingModule\n",
    "from PynPoint.processing_modules import FastPCAModule\n",
    "from PynPoint.processing_modules import PSFdataPreparation\n",
    "prepare = PSFdataPreparation(name_in=\"psf_prep_stacked\",\n",
    "                             image_in_tag=\"10_wavelet_denoised_soft_stacked\",\n",
    "                             image_out_tag=\"08_star_arr_normalized_bp_cleaned_prep_stacked\",\n",
    "                             image_mask_out_tag=\"not_needed\",\n",
    "                             F_final=1.0,\n",
    "                             cent_size=0.05,\n",
    "                             mask_out_tag=\"no_wv_mask_arr\")\n",
    "pipeline.add_module(prepare)"
   ]
  },
  {
   "cell_type": "code",
   "execution_count": 9,
   "metadata": {},
   "outputs": [
    {
     "name": "stdout",
     "output_type": "stream",
     "text": [
      "Validating module psf_prep_stacked... [DONE]\n"
     ]
    }
   ],
   "source": [
    "pipeline.run_module(\"psf_prep_stacked\")"
   ]
  },
  {
   "cell_type": "code",
   "execution_count": 10,
   "metadata": {},
   "outputs": [],
   "source": [
    "pca = FastPCAModule(range(100),\n",
    "                    name_in=\"PSF_subtraction_stacked\",\n",
    "                    images_in_tag=\"08_star_arr_normalized_bp_cleaned_prep_stacked\",\n",
    "                    reference_in_tag=\"08_star_arr_normalized_bp_cleaned_prep_stacked\",\n",
    "                    res_mean_tag=\"res_mean_stacked\")\n",
    "pipeline.add_module(pca)"
   ]
  },
  {
   "cell_type": "code",
   "execution_count": 11,
   "metadata": {},
   "outputs": [
    {
     "name": "stdout",
     "output_type": "stream",
     "text": [
      "Validating module PSF_subtraction_stacked... [DONE]\n",
      "Calculating PSF model... [DONE]\n",
      "Creating residuals...30\n",
      "Created Residual with 1 components\n",
      "Created Residual with 25 components\n",
      "Created Residual with 5 components\n",
      "Created Residual with 21 components\n",
      "Created Residual with 26 components\n",
      "Created Residual with 10 components\n",
      "Created Residual with 2 components\n",
      "Created Residual with 14 components\n",
      "Created Residual with 6 components\n",
      "Created Residual with 11 components\n",
      "Created Residual with 7 components\n",
      "Created Residual with 16 components\n",
      "Created Residual with 17 components\n",
      "Created Residual with 22 components\n",
      "Created Residual with 23 components\n",
      "Created Residual with 8 components\n",
      "Created Residual with 20 components\n",
      "Created Residual with 28 components\n",
      "Created Residual with 24 components\n",
      "Created Residual with 19 components\n",
      "Created Residual with 3 components\n",
      "Created Residual with 18 components\n",
      "Created Residual with 4 components\n",
      "Created Residual with 9 components\n",
      "Created Residual with 15 components\n",
      "Created Residual with 13 components\n",
      "Created Residual with 27 components\n",
      "Created Residual with 29 components\n",
      "Created Residual with 12 components\n",
      "Created Residual with 0 components\n",
      "Created Residual with 31 components\n",
      "Created Residual with 33 components\n",
      "Created Residual with 34 components\n",
      "Created Residual with 39 components\n",
      "Created Residual with 30 components\n",
      "Created Residual with 35 components\n",
      "Created Residual with 38 components\n",
      "Created Residual with 40 components\n",
      "Created Residual with 36 components\n",
      "Created Residual with 54 components\n",
      "Created Residual with 45 components\n",
      "Created Residual with 42 components\n",
      "Created Residual with 32 components\n",
      "Created Residual with 44 components\n",
      "Created Residual with 41 components\n",
      "Created Residual with 58 components\n",
      "Created Residual with 47 components\n",
      "Created Residual with 37 components\n",
      "Created Residual with 49 components\n",
      "Created Residual with 55 components\n",
      "Created Residual with 43 components\n",
      "Created Residual with 53 components\n",
      "Created Residual with 52 components\n",
      "Created Residual with 50 components\n",
      "Created Residual with 48 components\n",
      "Created Residual with 46 components\n",
      "Created Residual with 59 components\n",
      "Created Residual with 51 components\n",
      "Created Residual with 57 components\n",
      "Created Residual with 56 components\n",
      "Created Residual with 60 components\n",
      "Created Residual with 61 components\n",
      "Created Residual with 62 components\n",
      "Created Residual with 63 components\n",
      "Created Residual with 66 components\n",
      "Created Residual with 65 components\n",
      "Created Residual with 64 components\n",
      "Created Residual with 67 components\n",
      "Created Residual with 71 components\n",
      "Created Residual with 70 components\n",
      "Created Residual with 68 components\n",
      "PcaTaskProcessor-4: Exiting\n",
      "Created Residual with 75 components\n",
      "PcaTaskProcessor-14: Exiting\n",
      "Created Residual with 72 components\n",
      "PcaTaskProcessor-23: Exiting\n",
      "Created Residual with 74 components\n",
      "PcaTaskProcessor-9: Exiting\n",
      "Created Residual with 69 components\n",
      "PcaTaskProcessor-10: Exiting\n",
      "Created Residual with 73 components\n",
      "Created Residual with 81 components\n",
      "PcaTaskProcessor-7: Exiting\n",
      "PcaTaskProcessor-18: Exiting\n",
      "Created Residual with 80 components\n",
      "PcaTaskProcessor-11: Exiting\n",
      "Created Residual with 76 components\n",
      "Created Residual with 83 components\n",
      "PcaTaskProcessor-20: Exiting\n",
      "PcaTaskProcessor-22: Exiting\n",
      "Created Residual with 78 components\n",
      "PcaTaskProcessor-26: Exiting\n",
      "Created Residual with 77 components\n",
      "PcaTaskProcessor-16: Exiting\n",
      "Created Residual with 82 components\n",
      "PcaTaskProcessor-6: Exiting\n",
      "Created Residual with 79 components\n",
      "Created Residual with 85 components\n",
      "PcaTaskProcessor-31: Exiting\n",
      "PcaTaskProcessor-29: Exiting\n",
      "Created Residual with 88 components\n",
      "PcaTaskProcessor-5: Exiting\n",
      "Created Residual with 86 components\n",
      "PcaTaskProcessor-2: Exiting\n",
      "Created Residual with 87 components\n",
      "Created Residual with 84 components\n",
      "PcaTaskProcessor-30: Exiting\n",
      "PcaTaskProcessor-21: Exiting\n",
      "Created Residual with 89 components\n",
      "PcaTaskProcessor-15: Exiting\n",
      "Created Residual with 90 components\n",
      "PcaTaskProcessor-27: Exiting\n",
      "Created Residual with 91 components\n",
      "PcaTaskProcessor-24: Exiting\n",
      "Created Residual with 93 components\n",
      "PcaTaskProcessor-13: Exiting\n",
      "Created Residual with 92 components\n",
      "PcaTaskProcessor-28: Exiting\n",
      "Created Residual with 94 components\n",
      "PcaTaskProcessor-8: Exiting\n",
      "Created Residual with 95 components\n",
      "PcaTaskProcessor-12: Exiting\n",
      "Created Residual with 98 components\n",
      "PcaTaskProcessor-25: Exiting\n",
      "Created Residual with 96 components\n",
      "PcaTaskProcessor-3: Exiting\n",
      "Created Residual with 97 components\n",
      "PcaTaskProcessor-19: Exiting\n",
      "Created Residual with 99 components\n",
      "PcaTaskProcessor-17: Exiting\n",
      "Shutting down writer...\n",
      " [DONE]\n"
     ]
    }
   ],
   "source": [
    "pipeline.run_module(\"PSF_subtraction_stacked\")"
   ]
  },
  {
   "cell_type": "code",
   "execution_count": 12,
   "metadata": {},
   "outputs": [],
   "source": [
    "from PynPoint.io_modules import FitsWritingModule\n",
    "writeing = FitsWritingModule(\"mean_soft_wv_stacked.fits\",\n",
    "                             name_in=\"fits_writing_stacked\",\n",
    "                             data_tag=\"res_mean_stacked\")\n",
    "pipeline.add_module(writeing)"
   ]
  },
  {
   "cell_type": "code",
   "execution_count": 13,
   "metadata": {},
   "outputs": [
    {
     "name": "stdout",
     "output_type": "stream",
     "text": [
      "Validating module fits_writing_stacked... [DONE]\n",
      "Running FitsWritingModule... [DONE]\n"
     ]
    }
   ],
   "source": [
    "pipeline.run_module(\"fits_writing_stacked\")"
   ]
  },
  {
   "cell_type": "code",
   "execution_count": null,
   "metadata": {},
   "outputs": [],
   "source": []
  }
 ],
 "metadata": {
  "kernelspec": {
   "display_name": "Python 2",
   "language": "python",
   "name": "python2"
  },
  "language_info": {
   "codemirror_mode": {
    "name": "ipython",
    "version": 2
   },
   "file_extension": ".py",
   "mimetype": "text/x-python",
   "name": "python",
   "nbconvert_exporter": "python",
   "pygments_lexer": "ipython2",
   "version": "2.7.12"
  }
 },
 "nbformat": 4,
 "nbformat_minor": 1
}

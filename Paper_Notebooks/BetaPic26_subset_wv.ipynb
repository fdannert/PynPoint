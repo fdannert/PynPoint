{
 "cells": [
  {
   "cell_type": "code",
   "execution_count": 1,
   "metadata": {},
   "outputs": [],
   "source": [
    "import os\n",
    "import sys\n",
    "module_path = os.path.abspath(os.path.join('../'))\n",
    "if module_path not in sys.path:\n",
    "    sys.path.append(module_path)"
   ]
  },
  {
   "cell_type": "code",
   "execution_count": 2,
   "metadata": {},
   "outputs": [],
   "source": [
    "from PynPoint.core import Pypeline"
   ]
  },
  {
   "cell_type": "code",
   "execution_count": 5,
   "metadata": {},
   "outputs": [
    {
     "name": "stdout",
     "output_type": "stream",
     "text": [
      "Initiating PynPoint... [DONE]\n"
     ]
    }
   ],
   "source": [
    "pipeline = Pypeline(\"/scratch/user/mbonse/BetaPic_26/WORKPLACE/\",\n",
    "                    \"/scratch/user/mbonse/BetaPic_26/WORKPLACE/\",\n",
    "                    \"/scratch/user/mbonse/BetaPic_26/RESULTS\")"
   ]
  },
  {
   "cell_type": "markdown",
   "metadata": {},
   "source": [
    "## Wavelet config"
   ]
  },
  {
   "cell_type": "code",
   "execution_count": 6,
   "metadata": {},
   "outputs": [],
   "source": [
    "from PynPoint.processing_modules import CwtWaveletConfiguration, WaveletTimeDenoisingModule"
   ]
  },
  {
   "cell_type": "code",
   "execution_count": 7,
   "metadata": {},
   "outputs": [],
   "source": [
    "wavelet = CwtWaveletConfiguration(wavelet=\"dog\",\n",
    "                                  wavelet_order=2.0,\n",
    "                                  keep_mean=True,\n",
    "                                  resolution=0.5)"
   ]
  },
  {
   "cell_type": "markdown",
   "metadata": {},
   "source": [
    "## Hard wavelets"
   ]
  },
  {
   "cell_type": "code",
   "execution_count": 8,
   "metadata": {},
   "outputs": [],
   "source": [
    "denoising = WaveletTimeDenoisingModule(wavelet_configuration=wavelet,\n",
    "                                       name_in=\"wavelet_time_denoising_hard\",\n",
    "                                       image_in_tag=\"07_star_arr_normalized\",\n",
    "                                       image_out_tag=\"10_wavelet_denoised_hard\",\n",
    "                                       denoising_threshold=1.0,\n",
    "                                       padding=\"zero\",\n",
    "                                       median_filter=False,\n",
    "                                       threshold_function=\"hard\")\n",
    "pipeline.add_module(denoising)"
   ]
  },
  {
   "cell_type": "code",
   "execution_count": null,
   "metadata": {},
   "outputs": [
    {
     "name": "stdout",
     "output_type": "stream",
     "text": [
      "Validating module wavelet_time_denoising_hard... [DONE]\n",
      "Database prepared. Starting analysis with 40 processes.\n",
      "Reading lines from 0 to 3\n",
      "Reading lines from 3 to 6\n",
      "Reading lines from 6 to 9\n",
      "Reading lines from 9 to 12\n",
      "Reading lines from 12 to 15\n",
      "Reading lines from 15 to 18\n",
      "Reading lines from 18 to 21\n",
      "Reading lines from 21 to 24\n",
      "Reading lines from 24 to 27\n",
      "Reading lines from 27 to 30\n",
      "Reading lines from 30 to 33\n",
      "Reading lines from 33 to 36\n",
      "Reading lines from 36 to 39\n",
      "Reading lines from 39 to 42\n",
      "Reading lines from 42 to 45\n",
      "Reading lines from 45 to 48\n",
      "Reading lines from 48 to 51\n",
      "Reading lines from 51 to 54\n",
      "Reading lines from 54 to 57\n",
      "Reading lines from 57 to 60\n",
      "Reading lines from 60 to 63\n",
      "Reading lines from 63 to 66\n",
      "Reading lines from 66 to 69\n",
      "Reading lines from 69 to 72\n",
      "Reading lines from 72 to 75\n",
      "Reading lines from 75 to 78\n",
      "Reading lines from 78 to 81\n",
      "Reading lines from 81 to 84\n",
      "Reading lines from 84 to 87\n",
      "Reading lines from 87 to 90\n",
      "Reading lines from 90 to 93\n",
      "Reading lines from 93 to 96\n",
      "Reading lines from 96 to 99\n",
      "Reading lines from 99 to 102\n",
      "Reading lines from 102 to 105\n",
      "Reading lines from 105 to 108\n",
      "Reading lines from 108 to 110\n",
      "LineTaskProcessor-39: Exiting\n",
      "LineTaskProcessor-41: Exiting\n",
      "LineTaskProcessor-40: Exiting\n"
     ]
    }
   ],
   "source": [
    "pipeline.run_module(\"wavelet_time_denoising_hard\")"
   ]
  },
  {
   "cell_type": "markdown",
   "metadata": {},
   "source": [
    "## Write out"
   ]
  },
  {
   "cell_type": "code",
   "execution_count": null,
   "metadata": {},
   "outputs": [],
   "source": [
    "from PynPoint.io_modules import FitsWritingModule"
   ]
  },
  {
   "cell_type": "code",
   "execution_count": null,
   "metadata": {},
   "outputs": [],
   "source": [
    "writing2 = FitsWritingModule(\"after_wavelets_hard.fits\",\n",
    "                                name_in=\"after_wavelets_hard\",\n",
    "                                data_tag=\"10_wavelet_denoised_hard\",\n",
    "                                data_range=(2000,2100))\n",
    "pipeline.add_module(writing2)\n",
    "pipeline.run_module(\"after_wavelets_hard\")"
   ]
  },
  {
   "cell_type": "markdown",
   "metadata": {},
   "source": [
    "## Soft Wavelets"
   ]
  },
  {
   "cell_type": "code",
   "execution_count": null,
   "metadata": {},
   "outputs": [],
   "source": [
    "denoising = WaveletTimeDenoisingModule(wavelet_configuration=wavelet,\n",
    "                                       name_in=\"wavelet_time_denoising_soft\",\n",
    "                                       image_in_tag=\"07_star_arr_normalized\",\n",
    "                                       image_out_tag=\"10_wavelet_denoised_soft\",\n",
    "                                       denoising_threshold=1.0,\n",
    "                                       padding=\"zero\",\n",
    "                                       median_filter=False,\n",
    "                                       threshold_function=\"soft\")\n",
    "pipeline.add_module(denoising)"
   ]
  },
  {
   "cell_type": "code",
   "execution_count": null,
   "metadata": {},
   "outputs": [],
   "source": [
    "pipeline.run_module(\"wavelet_time_denoising_soft\")"
   ]
  },
  {
   "cell_type": "code",
   "execution_count": null,
   "metadata": {},
   "outputs": [],
   "source": [
    "writing2 = FitsWritingModule(\"after_wavelets_soft.fits\",\n",
    "                                name_in=\"after_wavelets_soft\",\n",
    "                                data_tag=\"10_wavelet_denoised_soft\",\n",
    "                                data_range=(2000,2100))\n",
    "pipeline.add_module(writing2)\n",
    "pipeline.run_module(\"after_wavelets_soft\")"
   ]
  },
  {
   "cell_type": "code",
   "execution_count": 17,
   "metadata": {},
   "outputs": [
    {
     "name": "stdout",
     "output_type": "stream",
     "text": [
      "a\n"
     ]
    }
   ],
   "source": [
    "print \"a\""
   ]
  },
  {
   "cell_type": "code",
   "execution_count": null,
   "metadata": {},
   "outputs": [],
   "source": []
  }
 ],
 "metadata": {
  "kernelspec": {
   "display_name": "Python 2",
   "language": "python",
   "name": "python2"
  },
  "language_info": {
   "codemirror_mode": {
    "name": "ipython",
    "version": 2
   },
   "file_extension": ".py",
   "mimetype": "text/x-python",
   "name": "python",
   "nbconvert_exporter": "python",
   "pygments_lexer": "ipython2",
   "version": "2.7.12"
  }
 },
 "nbformat": 4,
 "nbformat_minor": 1
}

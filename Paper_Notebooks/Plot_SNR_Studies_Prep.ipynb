{
 "cells": [
  {
   "cell_type": "code",
   "execution_count": 2,
   "metadata": {},
   "outputs": [],
   "source": [
    "import os\n",
    "import sys\n",
    "module_path = os.path.abspath(os.path.join('../'))\n",
    "if module_path not in sys.path:\n",
    "    sys.path.append(module_path)\n",
    "\n",
    "import fpf_calculator\n",
    "import glob, os\n",
    "import numpy as np\n",
    "import operator"
   ]
  },
  {
   "cell_type": "markdown",
   "metadata": {},
   "source": [
    "## SNR function"
   ]
  },
  {
   "cell_type": "code",
   "execution_count": 6,
   "metadata": {},
   "outputs": [],
   "source": [
    "folder_list = [\"no_wv/\", \"hard_wv\", \"soft_wv\"]\n",
    "\n",
    "def calc_SNR(planet_pos,\n",
    "             shifts,\n",
    "             path,\n",
    "             tmploc):\n",
    "    print \"------------- \" + tmploc + \"---------------\"\n",
    "    tmp_location = path + tmploc\n",
    "    snr_result_list = []\n",
    "\n",
    "    # get all fits files in the directory\n",
    "    os.chdir(tmp_location)\n",
    "    for file in sorted(glob.glob(\"*.fits\")):\n",
    "        tmp_snr_result_list = []\n",
    "        tmp_planet_pos_list = []\n",
    "\n",
    "        for shift in planet_shifts:\n",
    "            tmp_result = fpf_calculator.fpf_calculator(tmp_location + str(file),\n",
    "                                                       filetype=\"fits\",\n",
    "                                                       planet_position=shift,\n",
    "                                                       radius=3.6,\n",
    "                                                       method=\"exact\",\n",
    "                                                       plot=False,\n",
    "                                                       save=False)\n",
    "\n",
    "            tmp_snr_result_list.append(tmp_result[2])\n",
    "            tmp_planet_pos_list.append(tmp_result[3])\n",
    "\n",
    "        index, value = max(enumerate(snr_result_list), key=operator.itemgetter(1))\n",
    "        print str(file) + \" ---- \" + str(value)\n",
    "        snr_result_list.append(value)\n",
    "        \n",
    "    return snr_result_list"
   ]
  },
  {
   "cell_type": "markdown",
   "metadata": {},
   "source": [
    "## SNR for AGPM Beta Pic"
   ]
  },
  {
   "cell_type": "code",
   "execution_count": 4,
   "metadata": {},
   "outputs": [],
   "source": [
    "planet_pos = (73, 73)\n",
    "shifts = np.linspace(-1.0, 1.0, num=10)\n",
    "path = \"/Users/markusbonse/Desktop/Beta_Pic_2013\""
   ]
  },
  {
   "cell_type": "code",
   "execution_count": 5,
   "metadata": {},
   "outputs": [],
   "source": []
  },
  {
   "cell_type": "code",
   "execution_count": null,
   "metadata": {},
   "outputs": [],
   "source": [
    "folder_list = [\"no_wv/\", ]\n",
    "\n",
    "# planet_pos = (65, 62) # BP 26\n",
    "# planet_pos = (65, 61) # BP 29\n",
    "\n",
    "#  planet_pos = (58.5, 67.5)  # HR8799 e\n",
    "# planet_pos = (75, 67) # HR8799 d\n",
    "# planet_pos = (65, 63) # BP 26\n",
    "# planet_pos = (27, 77) # HR8799 c\n",
    "\n",
    "# shifts = np.linspace(-2.0, 2.0, num= 20) # HR8799 e\n",
    "\n",
    "shifts = np.linspace(-1.0, 1.0, num=10)  # BP 29 / BP 26\n",
    "\n",
    "planet_shifts = [(planet_pos[0] + x, planet_pos[1] + y) for x in shifts for y in shifts]\n",
    "\n",
    "print \"Beta Pic 26\"\n",
    "\n",
    "for tmploc in folder_list:\n",
    "    print \"------------- \" + tmploc + \"---------------\"\n",
    "\n",
    "    tmp_location = \"/Users/markusbonse/Desktop/\" + tmploc\n",
    "\n",
    "    last_planet_pos = planet_pos\n",
    "\n",
    "    # get all fits files in the directory\n",
    "    os.chdir(tmp_location)\n",
    "    for file in sorted(glob.glob(\"*.fits\")):\n",
    "\n",
    "        snr_result_list = []\n",
    "        planet_pos_list = []\n",
    "\n",
    "        for shift in planet_shifts:\n",
    "            tmp_result = fpf_calculator.fpf_calculator(tmp_location + str(file),\n",
    "                                                       filetype=\"fits\",\n",
    "                                                       planet_position=shift,\n",
    "                                                       radius=3.6,\n",
    "                                                       method=\"exact\",\n",
    "                                                       plot=False,\n",
    "                                                       save=False)\n",
    "\n",
    "            snr_result_list.append(tmp_result[2])\n",
    "            planet_pos_list.append(tmp_result[3])\n",
    "\n",
    "        index, value = max(enumerate(snr_result_list), key=operator.itemgetter(1))\n",
    "\n",
    "        print str(file) + \" ---- \" + str(value)\n",
    "\n",
    "        tmp_result = fpf_calculator.fpf_calculator(tmp_location + str(file),\n",
    "                                      filetype=\"fits\",\n",
    "                                      planet_position=planet_pos_list[index],\n",
    "                                      radius=3.6,\n",
    "                                      method=\"exact\",\n",
    "                                      plot=False,\n",
    "                                      save=False)\n",
    "\n",
    "        print tmp_result[4]\n",
    "\n"
   ]
  }
 ],
 "metadata": {
  "kernelspec": {
   "display_name": "Python 2",
   "language": "python",
   "name": "python2"
  },
  "language_info": {
   "codemirror_mode": {
    "name": "ipython",
    "version": 2
   },
   "file_extension": ".py",
   "mimetype": "text/x-python",
   "name": "python",
   "nbconvert_exporter": "python",
   "pygments_lexer": "ipython2",
   "version": "2.7.14"
  }
 },
 "nbformat": 4,
 "nbformat_minor": 2
}

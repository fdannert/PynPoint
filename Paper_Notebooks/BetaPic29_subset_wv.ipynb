{
 "cells": [
  {
   "cell_type": "code",
   "execution_count": 1,
   "metadata": {},
   "outputs": [],
   "source": [
    "import os\n",
    "import sys\n",
    "module_path = os.path.abspath(os.path.join('../'))\n",
    "if module_path not in sys.path:\n",
    "    sys.path.append(module_path)"
   ]
  },
  {
   "cell_type": "code",
   "execution_count": 2,
   "metadata": {},
   "outputs": [],
   "source": [
    "from PynPoint.core import Pypeline"
   ]
  },
  {
   "cell_type": "code",
   "execution_count": 9,
   "metadata": {},
   "outputs": [
    {
     "name": "stdout",
     "output_type": "stream",
     "text": [
      "Initiating PynPoint... [DONE]\n"
     ]
    }
   ],
   "source": [
    "pipeline = Pypeline(\"/scratch/user/mbonse/BetaPic_29_subset/WORKPLACE/wv\",\n",
    "                    \"/scratch/user/mbonse/BetaPic_29_subset/WORKPLACE/wv\",\n",
    "                    \"/scratch/user/mbonse/BetaPic_29_subset/RESULTS\")"
   ]
  },
  {
   "cell_type": "markdown",
   "metadata": {},
   "source": [
    "## Wavelet config"
   ]
  },
  {
   "cell_type": "code",
   "execution_count": 10,
   "metadata": {},
   "outputs": [],
   "source": [
    "from PynPoint.processing_modules import CwtWaveletConfiguration, WaveletTimeDenoisingModule"
   ]
  },
  {
   "cell_type": "code",
   "execution_count": 11,
   "metadata": {},
   "outputs": [],
   "source": [
    "wavelet = CwtWaveletConfiguration(wavelet=\"dog\",\n",
    "                                  wavelet_order=2.0,\n",
    "                                  keep_mean=True,\n",
    "                                  resolution=0.5)"
   ]
  },
  {
   "cell_type": "markdown",
   "metadata": {},
   "source": [
    "## Hard wavelets"
   ]
  },
  {
   "cell_type": "code",
   "execution_count": 12,
   "metadata": {},
   "outputs": [],
   "source": [
    "denoising = WaveletTimeDenoisingModule(wavelet_configuration=wavelet,\n",
    "                                       name_in=\"wavelet_time_denoising_hard\",\n",
    "                                       image_in_tag=\"09_star_arr_shifted\",\n",
    "                                       image_out_tag=\"10_wavelet_denoised_hard\",\n",
    "                                       denoising_threshold=1.0,\n",
    "                                       padding=\"zero\",\n",
    "                                       median_filter=False,\n",
    "                                       threshold_function=\"hard\")\n",
    "pipeline.add_module(denoising)"
   ]
  },
  {
   "cell_type": "code",
   "execution_count": 13,
   "metadata": {},
   "outputs": [
    {
     "name": "stdout",
     "output_type": "stream",
     "text": [
      "Validating module wavelet_time_denoising_hard... [DONE]\n",
      "Database prepared. Starting analysis with 30 processes.\n",
      "Reading lines from 0 to 4\n",
      "Reading lines from 4 to 8\n",
      "Reading lines from 8 to 12\n",
      "Reading lines from 12 to 16\n",
      "Reading lines from 16 to 20\n",
      "Reading lines from 20 to 24\n",
      "Reading lines from 24 to 28\n",
      "Reading lines from 28 to 32\n",
      "Reading lines from 32 to 36\n",
      "Reading lines from 36 to 40\n",
      "Reading lines from 40 to 44\n",
      "Reading lines from 44 to 48\n",
      "Reading lines from 48 to 52\n",
      "Reading lines from 52 to 56\n",
      "Reading lines from 56 to 60\n",
      "Reading lines from 60 to 64\n",
      "Reading lines from 64 to 68\n",
      "Reading lines from 68 to 72\n",
      "Reading lines from 72 to 76\n",
      "Reading lines from 76 to 80\n",
      "Reading lines from 80 to 84\n",
      "Reading lines from 84 to 88\n",
      "Reading lines from 88 to 92\n",
      "Reading lines from 92 to 96\n",
      "Reading lines from 96 to 100\n",
      "Reading lines from 100 to 104\n",
      "Reading lines from 104 to 108\n",
      "Reading lines from 108 to 110\n",
      "LineTaskProcessor-34: Exiting\n",
      "LineTaskProcessor-33: Exiting\n",
      "LineTaskProcessor-32: Exiting\n",
      "LineTaskProcessor-13: Exiting\n",
      "LineTaskProcessor-9: Exiting\n",
      "LineTaskProcessor-22: Exiting\n",
      "LineTaskProcessor-15: Exiting\n",
      "LineTaskProcessor-26: Exiting\n",
      "LineTaskProcessor-20: Exiting\n",
      "LineTaskProcessor-16: Exiting\n",
      "LineTaskProcessor-25: Exiting\n",
      "LineTaskProcessor-17: Exiting\n",
      "LineTaskProcessor-30: Exiting\n",
      "LineTaskProcessor-24: Exiting\n",
      "LineTaskProcessor-7: Exiting\n",
      "LineTaskProcessor-12: Exiting\n",
      "LineTaskProcessor-6: Exiting\n",
      "LineTaskProcessor-8: Exiting\n",
      "LineTaskProcessor-10: Exiting\n",
      "LineTaskProcessor-11: Exiting\n",
      "LineTaskProcessor-19: Exiting\n",
      "LineTaskProcessor-18: Exiting\n",
      "LineTaskProcessor-21: Exiting\n",
      "LineTaskProcessor-5: Exiting\n",
      "LineTaskProcessor-14: Exiting\n",
      "LineTaskProcessor-23: Exiting\n",
      "LineTaskProcessor-28: Exiting\n",
      "LineTaskProcessor-29: Exiting\n",
      "LineTaskProcessor-27: Exiting\n",
      "LineTaskProcessor-31: Exiting\n",
      "Shutting down writer...\n"
     ]
    }
   ],
   "source": [
    "pipeline.run_module(\"wavelet_time_denoising_hard\")"
   ]
  },
  {
   "cell_type": "markdown",
   "metadata": {},
   "source": [
    "## Write out"
   ]
  },
  {
   "cell_type": "code",
   "execution_count": 14,
   "metadata": {},
   "outputs": [],
   "source": [
    "from PynPoint.io_modules import FitsWritingModule"
   ]
  },
  {
   "cell_type": "code",
   "execution_count": 15,
   "metadata": {},
   "outputs": [
    {
     "name": "stdout",
     "output_type": "stream",
     "text": [
      "Validating module after_wavelets_hard... [DONE]\n",
      "Running FitsWritingModule... [DONE]\n"
     ]
    }
   ],
   "source": [
    "writing2 = FitsWritingModule(\"after_wavelets_hard.fits\",\n",
    "                                name_in=\"after_wavelets_hard\",\n",
    "                                data_tag=\"10_wavelet_denoised_hard\",\n",
    "                                data_range=(2000,2100))\n",
    "pipeline.add_module(writing2)\n",
    "pipeline.run_module(\"after_wavelets_hard\")"
   ]
  },
  {
   "cell_type": "markdown",
   "metadata": {},
   "source": [
    "## Soft Wavelets"
   ]
  },
  {
   "cell_type": "code",
   "execution_count": 16,
   "metadata": {},
   "outputs": [],
   "source": [
    "denoising = WaveletTimeDenoisingModule(wavelet_configuration=wavelet,\n",
    "                                       name_in=\"wavelet_time_denoising_soft\",\n",
    "                                       image_in_tag=\"09_star_arr_shifted\",\n",
    "                                       image_out_tag=\"10_wavelet_denoised_soft\",\n",
    "                                       denoising_threshold=1.0,\n",
    "                                       padding=\"zero\",\n",
    "                                       median_filter=False,\n",
    "                                       threshold_function=\"soft\")\n",
    "pipeline.add_module(denoising)"
   ]
  },
  {
   "cell_type": "code",
   "execution_count": 17,
   "metadata": {},
   "outputs": [
    {
     "name": "stdout",
     "output_type": "stream",
     "text": [
      "Validating module wavelet_time_denoising_soft... [DONE]\n",
      "Database prepared. Starting analysis with 30 processes.\n",
      "Reading lines from 0 to 4\n",
      "Reading lines from 4 to 8\n",
      "Reading lines from 8 to 12\n",
      "Reading lines from 12 to 16\n",
      "Reading lines from 16 to 20\n",
      "Reading lines from 20 to 24\n",
      "Reading lines from 24 to 28\n",
      "Reading lines from 28 to 32\n",
      "Reading lines from 32 to 36\n",
      "Reading lines from 36 to 40\n",
      "Reading lines from 40 to 44\n",
      "Reading lines from 44 to 48\n",
      "Reading lines from 48 to 52\n",
      "Reading lines from 52 to 56\n",
      "Reading lines from 56 to 60\n",
      "Reading lines from 60 to 64\n",
      "Reading lines from 64 to 68\n",
      "Reading lines from 68 to 72\n",
      "Reading lines from 72 to 76\n",
      "Reading lines from 76 to 80\n",
      "Reading lines from 80 to 84\n",
      "Reading lines from 84 to 88\n",
      "Reading lines from 88 to 92\n",
      "Reading lines from 92 to 96\n",
      "Reading lines from 96 to 100\n",
      "Reading lines from 100 to 104\n",
      "Reading lines from 104 to 108\n",
      "Reading lines from 108 to 110\n",
      "LineTaskProcessor-65: Exiting\n",
      "LineTaskProcessor-66: Exiting\n",
      "LineTaskProcessor-64: Exiting\n",
      "LineTaskProcessor-43: Exiting\n",
      "LineTaskProcessor-38: Exiting\n",
      "LineTaskProcessor-40: Exiting\n",
      "LineTaskProcessor-42: Exiting\n",
      "LineTaskProcessor-52: Exiting\n",
      "LineTaskProcessor-49: Exiting\n",
      "LineTaskProcessor-51: Exiting\n",
      "LineTaskProcessor-44: Exiting\n",
      "LineTaskProcessor-58: Exiting\n",
      "LineTaskProcessor-50: Exiting\n",
      "LineTaskProcessor-55: Exiting\n",
      "LineTaskProcessor-56: Exiting\n",
      "LineTaskProcessor-48: Exiting\n",
      "LineTaskProcessor-57: Exiting\n",
      "LineTaskProcessor-61: Exiting\n",
      "LineTaskProcessor-39: Exiting\n",
      "LineTaskProcessor-41: Exiting\n",
      "LineTaskProcessor-45: Exiting\n",
      "LineTaskProcessor-37: Exiting\n",
      "LineTaskProcessor-46: Exiting\n",
      "LineTaskProcessor-47: Exiting\n",
      "LineTaskProcessor-53: Exiting\n",
      "LineTaskProcessor-59: Exiting\n",
      "LineTaskProcessor-54: Exiting\n",
      "LineTaskProcessor-63: Exiting\n",
      "LineTaskProcessor-60: Exiting\n",
      "LineTaskProcessor-62: Exiting\n",
      "Shutting down writer...\n"
     ]
    }
   ],
   "source": [
    "pipeline.run_module(\"wavelet_time_denoising_soft\")"
   ]
  },
  {
   "cell_type": "code",
   "execution_count": 18,
   "metadata": {},
   "outputs": [
    {
     "name": "stdout",
     "output_type": "stream",
     "text": [
      "Validating module after_wavelets_soft... [DONE]\n",
      "Running FitsWritingModule... [DONE]\n"
     ]
    }
   ],
   "source": [
    "writing2 = FitsWritingModule(\"after_wavelets_soft.fits\",\n",
    "                                name_in=\"after_wavelets_soft\",\n",
    "                                data_tag=\"10_wavelet_denoised_soft\",\n",
    "                                data_range=(2000,2100))\n",
    "pipeline.add_module(writing2)\n",
    "pipeline.run_module(\"after_wavelets_soft\")"
   ]
  },
  {
   "cell_type": "code",
   "execution_count": null,
   "metadata": {},
   "outputs": [],
   "source": []
  }
 ],
 "metadata": {
  "kernelspec": {
   "display_name": "Python 2",
   "language": "python",
   "name": "python2"
  },
  "language_info": {
   "codemirror_mode": {
    "name": "ipython",
    "version": 2
   },
   "file_extension": ".py",
   "mimetype": "text/x-python",
   "name": "python",
   "nbconvert_exporter": "python",
   "pygments_lexer": "ipython2",
   "version": "2.7.12"
  }
 },
 "nbformat": 4,
 "nbformat_minor": 1
}
